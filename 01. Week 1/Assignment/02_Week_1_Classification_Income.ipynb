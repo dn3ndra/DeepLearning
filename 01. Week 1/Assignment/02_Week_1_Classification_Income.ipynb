{
  "nbformat": 4,
  "nbformat_minor": 0,
  "metadata": {
    "colab": {
      "provenance": [],
      "include_colab_link": true
    },
    "kernelspec": {
      "name": "python3",
      "display_name": "Python 3"
    },
    "language_info": {
      "name": "python"
    }
  },
  "cells": [
    {
      "cell_type": "markdown",
      "metadata": {
        "id": "view-in-github",
        "colab_type": "text"
      },
      "source": [
        "<a href=\"https://colab.research.google.com/github/dn3ndra/DeepLearning/blob/main/01.%20Week%201/Assignment/02_Week_1_Classification_Income.ipynb\" target=\"_parent\"><img src=\"https://colab.research.google.com/assets/colab-badge.svg\" alt=\"Open In Colab\"/></a>"
      ]
    },
    {
      "cell_type": "markdown",
      "source": [
        "## **Install Pytorch dan Tensorflow**"
      ],
      "metadata": {
        "id": "q23HBq7Sc5qj"
      }
    },
    {
      "cell_type": "code",
      "execution_count": 1,
      "metadata": {
        "id": "PvXXUlyPcG-G"
      },
      "outputs": [],
      "source": [
        "# !pip install tensorflow\n",
        "# !pip install torch torchvision"
      ]
    },
    {
      "cell_type": "markdown",
      "source": [
        "## **Import Library**"
      ],
      "metadata": {
        "id": "F7jsIk5FdkUz"
      }
    },
    {
      "cell_type": "code",
      "source": [
        "import torch\n",
        "import torch.nn as nn\n",
        "import torch.optim as optim\n",
        "import pandas as pd\n",
        "import numpy as np\n",
        "from sklearn.model_selection import train_test_split\n",
        "from sklearn.preprocessing import StandardScaler, LabelEncoder\n",
        "from sklearn.metrics import r2_score, mean_squared_error\n",
        "from sklearn.metrics import accuracy_score, precision_score, recall_score, f1_score, roc_auc_score, roc_curve\n",
        "import seaborn as sns\n",
        "import matplotlib.pyplot as plt\n",
        "import tensorflow as tf\n",
        "from tensorflow.keras.models import Sequential\n",
        "from tensorflow.keras.layers import Dense\n",
        "from tensorflow.keras.optimizers import SGD\n",
        "from sklearn.impute import SimpleImputer\n",
        "from tensorflow.keras.callbacks import EarlyStopping\n",
        "from collections import Counter\n",
        "from imblearn.over_sampling import SMOTE"
      ],
      "metadata": {
        "id": "p_tKOIuodoI7"
      },
      "execution_count": 29,
      "outputs": []
    },
    {
      "cell_type": "markdown",
      "source": [
        "## **DATA EXPLORING**"
      ],
      "metadata": {
        "id": "t8ki8yqzgEX3"
      }
    },
    {
      "cell_type": "code",
      "source": [
        "df = pd.read_csv('https://raw.githubusercontent.com/farrelrassya/teachingMLDL/refs/heads/main/02.%20Deep%20Learning/Dataset/income.csv')"
      ],
      "metadata": {
        "id": "vMnlFKj4eNYj"
      },
      "execution_count": 30,
      "outputs": []
    },
    {
      "cell_type": "code",
      "source": [
        "df.info()"
      ],
      "metadata": {
        "colab": {
          "base_uri": "https://localhost:8080/"
        },
        "id": "ivIuPZYZeZXG",
        "outputId": "e0c88d01-bda5-4c2b-b657-b402afd6015d"
      },
      "execution_count": 31,
      "outputs": [
        {
          "output_type": "stream",
          "name": "stdout",
          "text": [
            "<class 'pandas.core.frame.DataFrame'>\n",
            "RangeIndex: 48842 entries, 0 to 48841\n",
            "Data columns (total 15 columns):\n",
            " #   Column          Non-Null Count  Dtype \n",
            "---  ------          --------------  ----- \n",
            " 0   age             48842 non-null  int64 \n",
            " 1   workclass       47879 non-null  object\n",
            " 2   fnlwgt          48842 non-null  int64 \n",
            " 3   education       48842 non-null  object\n",
            " 4   education-num   48842 non-null  int64 \n",
            " 5   marital-status  48842 non-null  object\n",
            " 6   occupation      47876 non-null  object\n",
            " 7   relationship    48842 non-null  object\n",
            " 8   race            48842 non-null  object\n",
            " 9   sex             48842 non-null  object\n",
            " 10  capital-gain    48842 non-null  int64 \n",
            " 11  capital-loss    48842 non-null  int64 \n",
            " 12  hours-per-week  48842 non-null  int64 \n",
            " 13  native-country  48568 non-null  object\n",
            " 14  income          48842 non-null  object\n",
            "dtypes: int64(6), object(9)\n",
            "memory usage: 5.6+ MB\n"
          ]
        }
      ]
    },
    {
      "cell_type": "code",
      "source": [
        "df"
      ],
      "metadata": {
        "colab": {
          "base_uri": "https://localhost:8080/",
          "height": 563
        },
        "id": "0qb4h49WafjL",
        "outputId": "beb427b0-8f3e-4188-f062-93f27a19795a"
      },
      "execution_count": 32,
      "outputs": [
        {
          "output_type": "execute_result",
          "data": {
            "text/plain": [
              "       age         workclass  fnlwgt  education  education-num  \\\n",
              "0       39         State-gov   77516  Bachelors             13   \n",
              "1       50  Self-emp-not-inc   83311  Bachelors             13   \n",
              "2       38           Private  215646    HS-grad              9   \n",
              "3       53           Private  234721       11th              7   \n",
              "4       28           Private  338409  Bachelors             13   \n",
              "...    ...               ...     ...        ...            ...   \n",
              "48837   39           Private  215419  Bachelors             13   \n",
              "48838   64               NaN  321403    HS-grad              9   \n",
              "48839   38           Private  374983  Bachelors             13   \n",
              "48840   44           Private   83891  Bachelors             13   \n",
              "48841   35      Self-emp-inc  182148  Bachelors             13   \n",
              "\n",
              "           marital-status         occupation    relationship  \\\n",
              "0           Never-married       Adm-clerical   Not-in-family   \n",
              "1      Married-civ-spouse    Exec-managerial         Husband   \n",
              "2                Divorced  Handlers-cleaners   Not-in-family   \n",
              "3      Married-civ-spouse  Handlers-cleaners         Husband   \n",
              "4      Married-civ-spouse     Prof-specialty            Wife   \n",
              "...                   ...                ...             ...   \n",
              "48837            Divorced     Prof-specialty   Not-in-family   \n",
              "48838             Widowed                NaN  Other-relative   \n",
              "48839  Married-civ-spouse     Prof-specialty         Husband   \n",
              "48840            Divorced       Adm-clerical       Own-child   \n",
              "48841  Married-civ-spouse    Exec-managerial         Husband   \n",
              "\n",
              "                     race     sex  capital-gain  capital-loss  hours-per-week  \\\n",
              "0                   White    Male          2174             0              40   \n",
              "1                   White    Male             0             0              13   \n",
              "2                   White    Male             0             0              40   \n",
              "3                   Black    Male             0             0              40   \n",
              "4                   Black  Female             0             0              40   \n",
              "...                   ...     ...           ...           ...             ...   \n",
              "48837               White  Female             0             0              36   \n",
              "48838               Black    Male             0             0              40   \n",
              "48839               White    Male             0             0              50   \n",
              "48840  Asian-Pac-Islander    Male          5455             0              40   \n",
              "48841               White    Male             0             0              60   \n",
              "\n",
              "      native-country  income  \n",
              "0      United-States   <=50K  \n",
              "1      United-States   <=50K  \n",
              "2      United-States   <=50K  \n",
              "3      United-States   <=50K  \n",
              "4               Cuba   <=50K  \n",
              "...              ...     ...  \n",
              "48837  United-States  <=50K.  \n",
              "48838  United-States  <=50K.  \n",
              "48839  United-States  <=50K.  \n",
              "48840  United-States  <=50K.  \n",
              "48841  United-States   >50K.  \n",
              "\n",
              "[48842 rows x 15 columns]"
            ],
            "text/html": [
              "\n",
              "  <div id=\"df-229f9655-9d07-4140-8c8b-f433bb84cf21\" class=\"colab-df-container\">\n",
              "    <div>\n",
              "<style scoped>\n",
              "    .dataframe tbody tr th:only-of-type {\n",
              "        vertical-align: middle;\n",
              "    }\n",
              "\n",
              "    .dataframe tbody tr th {\n",
              "        vertical-align: top;\n",
              "    }\n",
              "\n",
              "    .dataframe thead th {\n",
              "        text-align: right;\n",
              "    }\n",
              "</style>\n",
              "<table border=\"1\" class=\"dataframe\">\n",
              "  <thead>\n",
              "    <tr style=\"text-align: right;\">\n",
              "      <th></th>\n",
              "      <th>age</th>\n",
              "      <th>workclass</th>\n",
              "      <th>fnlwgt</th>\n",
              "      <th>education</th>\n",
              "      <th>education-num</th>\n",
              "      <th>marital-status</th>\n",
              "      <th>occupation</th>\n",
              "      <th>relationship</th>\n",
              "      <th>race</th>\n",
              "      <th>sex</th>\n",
              "      <th>capital-gain</th>\n",
              "      <th>capital-loss</th>\n",
              "      <th>hours-per-week</th>\n",
              "      <th>native-country</th>\n",
              "      <th>income</th>\n",
              "    </tr>\n",
              "  </thead>\n",
              "  <tbody>\n",
              "    <tr>\n",
              "      <th>0</th>\n",
              "      <td>39</td>\n",
              "      <td>State-gov</td>\n",
              "      <td>77516</td>\n",
              "      <td>Bachelors</td>\n",
              "      <td>13</td>\n",
              "      <td>Never-married</td>\n",
              "      <td>Adm-clerical</td>\n",
              "      <td>Not-in-family</td>\n",
              "      <td>White</td>\n",
              "      <td>Male</td>\n",
              "      <td>2174</td>\n",
              "      <td>0</td>\n",
              "      <td>40</td>\n",
              "      <td>United-States</td>\n",
              "      <td>&lt;=50K</td>\n",
              "    </tr>\n",
              "    <tr>\n",
              "      <th>1</th>\n",
              "      <td>50</td>\n",
              "      <td>Self-emp-not-inc</td>\n",
              "      <td>83311</td>\n",
              "      <td>Bachelors</td>\n",
              "      <td>13</td>\n",
              "      <td>Married-civ-spouse</td>\n",
              "      <td>Exec-managerial</td>\n",
              "      <td>Husband</td>\n",
              "      <td>White</td>\n",
              "      <td>Male</td>\n",
              "      <td>0</td>\n",
              "      <td>0</td>\n",
              "      <td>13</td>\n",
              "      <td>United-States</td>\n",
              "      <td>&lt;=50K</td>\n",
              "    </tr>\n",
              "    <tr>\n",
              "      <th>2</th>\n",
              "      <td>38</td>\n",
              "      <td>Private</td>\n",
              "      <td>215646</td>\n",
              "      <td>HS-grad</td>\n",
              "      <td>9</td>\n",
              "      <td>Divorced</td>\n",
              "      <td>Handlers-cleaners</td>\n",
              "      <td>Not-in-family</td>\n",
              "      <td>White</td>\n",
              "      <td>Male</td>\n",
              "      <td>0</td>\n",
              "      <td>0</td>\n",
              "      <td>40</td>\n",
              "      <td>United-States</td>\n",
              "      <td>&lt;=50K</td>\n",
              "    </tr>\n",
              "    <tr>\n",
              "      <th>3</th>\n",
              "      <td>53</td>\n",
              "      <td>Private</td>\n",
              "      <td>234721</td>\n",
              "      <td>11th</td>\n",
              "      <td>7</td>\n",
              "      <td>Married-civ-spouse</td>\n",
              "      <td>Handlers-cleaners</td>\n",
              "      <td>Husband</td>\n",
              "      <td>Black</td>\n",
              "      <td>Male</td>\n",
              "      <td>0</td>\n",
              "      <td>0</td>\n",
              "      <td>40</td>\n",
              "      <td>United-States</td>\n",
              "      <td>&lt;=50K</td>\n",
              "    </tr>\n",
              "    <tr>\n",
              "      <th>4</th>\n",
              "      <td>28</td>\n",
              "      <td>Private</td>\n",
              "      <td>338409</td>\n",
              "      <td>Bachelors</td>\n",
              "      <td>13</td>\n",
              "      <td>Married-civ-spouse</td>\n",
              "      <td>Prof-specialty</td>\n",
              "      <td>Wife</td>\n",
              "      <td>Black</td>\n",
              "      <td>Female</td>\n",
              "      <td>0</td>\n",
              "      <td>0</td>\n",
              "      <td>40</td>\n",
              "      <td>Cuba</td>\n",
              "      <td>&lt;=50K</td>\n",
              "    </tr>\n",
              "    <tr>\n",
              "      <th>...</th>\n",
              "      <td>...</td>\n",
              "      <td>...</td>\n",
              "      <td>...</td>\n",
              "      <td>...</td>\n",
              "      <td>...</td>\n",
              "      <td>...</td>\n",
              "      <td>...</td>\n",
              "      <td>...</td>\n",
              "      <td>...</td>\n",
              "      <td>...</td>\n",
              "      <td>...</td>\n",
              "      <td>...</td>\n",
              "      <td>...</td>\n",
              "      <td>...</td>\n",
              "      <td>...</td>\n",
              "    </tr>\n",
              "    <tr>\n",
              "      <th>48837</th>\n",
              "      <td>39</td>\n",
              "      <td>Private</td>\n",
              "      <td>215419</td>\n",
              "      <td>Bachelors</td>\n",
              "      <td>13</td>\n",
              "      <td>Divorced</td>\n",
              "      <td>Prof-specialty</td>\n",
              "      <td>Not-in-family</td>\n",
              "      <td>White</td>\n",
              "      <td>Female</td>\n",
              "      <td>0</td>\n",
              "      <td>0</td>\n",
              "      <td>36</td>\n",
              "      <td>United-States</td>\n",
              "      <td>&lt;=50K.</td>\n",
              "    </tr>\n",
              "    <tr>\n",
              "      <th>48838</th>\n",
              "      <td>64</td>\n",
              "      <td>NaN</td>\n",
              "      <td>321403</td>\n",
              "      <td>HS-grad</td>\n",
              "      <td>9</td>\n",
              "      <td>Widowed</td>\n",
              "      <td>NaN</td>\n",
              "      <td>Other-relative</td>\n",
              "      <td>Black</td>\n",
              "      <td>Male</td>\n",
              "      <td>0</td>\n",
              "      <td>0</td>\n",
              "      <td>40</td>\n",
              "      <td>United-States</td>\n",
              "      <td>&lt;=50K.</td>\n",
              "    </tr>\n",
              "    <tr>\n",
              "      <th>48839</th>\n",
              "      <td>38</td>\n",
              "      <td>Private</td>\n",
              "      <td>374983</td>\n",
              "      <td>Bachelors</td>\n",
              "      <td>13</td>\n",
              "      <td>Married-civ-spouse</td>\n",
              "      <td>Prof-specialty</td>\n",
              "      <td>Husband</td>\n",
              "      <td>White</td>\n",
              "      <td>Male</td>\n",
              "      <td>0</td>\n",
              "      <td>0</td>\n",
              "      <td>50</td>\n",
              "      <td>United-States</td>\n",
              "      <td>&lt;=50K.</td>\n",
              "    </tr>\n",
              "    <tr>\n",
              "      <th>48840</th>\n",
              "      <td>44</td>\n",
              "      <td>Private</td>\n",
              "      <td>83891</td>\n",
              "      <td>Bachelors</td>\n",
              "      <td>13</td>\n",
              "      <td>Divorced</td>\n",
              "      <td>Adm-clerical</td>\n",
              "      <td>Own-child</td>\n",
              "      <td>Asian-Pac-Islander</td>\n",
              "      <td>Male</td>\n",
              "      <td>5455</td>\n",
              "      <td>0</td>\n",
              "      <td>40</td>\n",
              "      <td>United-States</td>\n",
              "      <td>&lt;=50K.</td>\n",
              "    </tr>\n",
              "    <tr>\n",
              "      <th>48841</th>\n",
              "      <td>35</td>\n",
              "      <td>Self-emp-inc</td>\n",
              "      <td>182148</td>\n",
              "      <td>Bachelors</td>\n",
              "      <td>13</td>\n",
              "      <td>Married-civ-spouse</td>\n",
              "      <td>Exec-managerial</td>\n",
              "      <td>Husband</td>\n",
              "      <td>White</td>\n",
              "      <td>Male</td>\n",
              "      <td>0</td>\n",
              "      <td>0</td>\n",
              "      <td>60</td>\n",
              "      <td>United-States</td>\n",
              "      <td>&gt;50K.</td>\n",
              "    </tr>\n",
              "  </tbody>\n",
              "</table>\n",
              "<p>48842 rows × 15 columns</p>\n",
              "</div>\n",
              "    <div class=\"colab-df-buttons\">\n",
              "\n",
              "  <div class=\"colab-df-container\">\n",
              "    <button class=\"colab-df-convert\" onclick=\"convertToInteractive('df-229f9655-9d07-4140-8c8b-f433bb84cf21')\"\n",
              "            title=\"Convert this dataframe to an interactive table.\"\n",
              "            style=\"display:none;\">\n",
              "\n",
              "  <svg xmlns=\"http://www.w3.org/2000/svg\" height=\"24px\" viewBox=\"0 -960 960 960\">\n",
              "    <path d=\"M120-120v-720h720v720H120Zm60-500h600v-160H180v160Zm220 220h160v-160H400v160Zm0 220h160v-160H400v160ZM180-400h160v-160H180v160Zm440 0h160v-160H620v160ZM180-180h160v-160H180v160Zm440 0h160v-160H620v160Z\"/>\n",
              "  </svg>\n",
              "    </button>\n",
              "\n",
              "  <style>\n",
              "    .colab-df-container {\n",
              "      display:flex;\n",
              "      gap: 12px;\n",
              "    }\n",
              "\n",
              "    .colab-df-convert {\n",
              "      background-color: #E8F0FE;\n",
              "      border: none;\n",
              "      border-radius: 50%;\n",
              "      cursor: pointer;\n",
              "      display: none;\n",
              "      fill: #1967D2;\n",
              "      height: 32px;\n",
              "      padding: 0 0 0 0;\n",
              "      width: 32px;\n",
              "    }\n",
              "\n",
              "    .colab-df-convert:hover {\n",
              "      background-color: #E2EBFA;\n",
              "      box-shadow: 0px 1px 2px rgba(60, 64, 67, 0.3), 0px 1px 3px 1px rgba(60, 64, 67, 0.15);\n",
              "      fill: #174EA6;\n",
              "    }\n",
              "\n",
              "    .colab-df-buttons div {\n",
              "      margin-bottom: 4px;\n",
              "    }\n",
              "\n",
              "    [theme=dark] .colab-df-convert {\n",
              "      background-color: #3B4455;\n",
              "      fill: #D2E3FC;\n",
              "    }\n",
              "\n",
              "    [theme=dark] .colab-df-convert:hover {\n",
              "      background-color: #434B5C;\n",
              "      box-shadow: 0px 1px 3px 1px rgba(0, 0, 0, 0.15);\n",
              "      filter: drop-shadow(0px 1px 2px rgba(0, 0, 0, 0.3));\n",
              "      fill: #FFFFFF;\n",
              "    }\n",
              "  </style>\n",
              "\n",
              "    <script>\n",
              "      const buttonEl =\n",
              "        document.querySelector('#df-229f9655-9d07-4140-8c8b-f433bb84cf21 button.colab-df-convert');\n",
              "      buttonEl.style.display =\n",
              "        google.colab.kernel.accessAllowed ? 'block' : 'none';\n",
              "\n",
              "      async function convertToInteractive(key) {\n",
              "        const element = document.querySelector('#df-229f9655-9d07-4140-8c8b-f433bb84cf21');\n",
              "        const dataTable =\n",
              "          await google.colab.kernel.invokeFunction('convertToInteractive',\n",
              "                                                    [key], {});\n",
              "        if (!dataTable) return;\n",
              "\n",
              "        const docLinkHtml = 'Like what you see? Visit the ' +\n",
              "          '<a target=\"_blank\" href=https://colab.research.google.com/notebooks/data_table.ipynb>data table notebook</a>'\n",
              "          + ' to learn more about interactive tables.';\n",
              "        element.innerHTML = '';\n",
              "        dataTable['output_type'] = 'display_data';\n",
              "        await google.colab.output.renderOutput(dataTable, element);\n",
              "        const docLink = document.createElement('div');\n",
              "        docLink.innerHTML = docLinkHtml;\n",
              "        element.appendChild(docLink);\n",
              "      }\n",
              "    </script>\n",
              "  </div>\n",
              "\n",
              "\n",
              "<div id=\"df-221a5abf-48fe-4d7e-b523-61c14b5f57b2\">\n",
              "  <button class=\"colab-df-quickchart\" onclick=\"quickchart('df-221a5abf-48fe-4d7e-b523-61c14b5f57b2')\"\n",
              "            title=\"Suggest charts\"\n",
              "            style=\"display:none;\">\n",
              "\n",
              "<svg xmlns=\"http://www.w3.org/2000/svg\" height=\"24px\"viewBox=\"0 0 24 24\"\n",
              "     width=\"24px\">\n",
              "    <g>\n",
              "        <path d=\"M19 3H5c-1.1 0-2 .9-2 2v14c0 1.1.9 2 2 2h14c1.1 0 2-.9 2-2V5c0-1.1-.9-2-2-2zM9 17H7v-7h2v7zm4 0h-2V7h2v10zm4 0h-2v-4h2v4z\"/>\n",
              "    </g>\n",
              "</svg>\n",
              "  </button>\n",
              "\n",
              "<style>\n",
              "  .colab-df-quickchart {\n",
              "      --bg-color: #E8F0FE;\n",
              "      --fill-color: #1967D2;\n",
              "      --hover-bg-color: #E2EBFA;\n",
              "      --hover-fill-color: #174EA6;\n",
              "      --disabled-fill-color: #AAA;\n",
              "      --disabled-bg-color: #DDD;\n",
              "  }\n",
              "\n",
              "  [theme=dark] .colab-df-quickchart {\n",
              "      --bg-color: #3B4455;\n",
              "      --fill-color: #D2E3FC;\n",
              "      --hover-bg-color: #434B5C;\n",
              "      --hover-fill-color: #FFFFFF;\n",
              "      --disabled-bg-color: #3B4455;\n",
              "      --disabled-fill-color: #666;\n",
              "  }\n",
              "\n",
              "  .colab-df-quickchart {\n",
              "    background-color: var(--bg-color);\n",
              "    border: none;\n",
              "    border-radius: 50%;\n",
              "    cursor: pointer;\n",
              "    display: none;\n",
              "    fill: var(--fill-color);\n",
              "    height: 32px;\n",
              "    padding: 0;\n",
              "    width: 32px;\n",
              "  }\n",
              "\n",
              "  .colab-df-quickchart:hover {\n",
              "    background-color: var(--hover-bg-color);\n",
              "    box-shadow: 0 1px 2px rgba(60, 64, 67, 0.3), 0 1px 3px 1px rgba(60, 64, 67, 0.15);\n",
              "    fill: var(--button-hover-fill-color);\n",
              "  }\n",
              "\n",
              "  .colab-df-quickchart-complete:disabled,\n",
              "  .colab-df-quickchart-complete:disabled:hover {\n",
              "    background-color: var(--disabled-bg-color);\n",
              "    fill: var(--disabled-fill-color);\n",
              "    box-shadow: none;\n",
              "  }\n",
              "\n",
              "  .colab-df-spinner {\n",
              "    border: 2px solid var(--fill-color);\n",
              "    border-color: transparent;\n",
              "    border-bottom-color: var(--fill-color);\n",
              "    animation:\n",
              "      spin 1s steps(1) infinite;\n",
              "  }\n",
              "\n",
              "  @keyframes spin {\n",
              "    0% {\n",
              "      border-color: transparent;\n",
              "      border-bottom-color: var(--fill-color);\n",
              "      border-left-color: var(--fill-color);\n",
              "    }\n",
              "    20% {\n",
              "      border-color: transparent;\n",
              "      border-left-color: var(--fill-color);\n",
              "      border-top-color: var(--fill-color);\n",
              "    }\n",
              "    30% {\n",
              "      border-color: transparent;\n",
              "      border-left-color: var(--fill-color);\n",
              "      border-top-color: var(--fill-color);\n",
              "      border-right-color: var(--fill-color);\n",
              "    }\n",
              "    40% {\n",
              "      border-color: transparent;\n",
              "      border-right-color: var(--fill-color);\n",
              "      border-top-color: var(--fill-color);\n",
              "    }\n",
              "    60% {\n",
              "      border-color: transparent;\n",
              "      border-right-color: var(--fill-color);\n",
              "    }\n",
              "    80% {\n",
              "      border-color: transparent;\n",
              "      border-right-color: var(--fill-color);\n",
              "      border-bottom-color: var(--fill-color);\n",
              "    }\n",
              "    90% {\n",
              "      border-color: transparent;\n",
              "      border-bottom-color: var(--fill-color);\n",
              "    }\n",
              "  }\n",
              "</style>\n",
              "\n",
              "  <script>\n",
              "    async function quickchart(key) {\n",
              "      const quickchartButtonEl =\n",
              "        document.querySelector('#' + key + ' button');\n",
              "      quickchartButtonEl.disabled = true;  // To prevent multiple clicks.\n",
              "      quickchartButtonEl.classList.add('colab-df-spinner');\n",
              "      try {\n",
              "        const charts = await google.colab.kernel.invokeFunction(\n",
              "            'suggestCharts', [key], {});\n",
              "      } catch (error) {\n",
              "        console.error('Error during call to suggestCharts:', error);\n",
              "      }\n",
              "      quickchartButtonEl.classList.remove('colab-df-spinner');\n",
              "      quickchartButtonEl.classList.add('colab-df-quickchart-complete');\n",
              "    }\n",
              "    (() => {\n",
              "      let quickchartButtonEl =\n",
              "        document.querySelector('#df-221a5abf-48fe-4d7e-b523-61c14b5f57b2 button');\n",
              "      quickchartButtonEl.style.display =\n",
              "        google.colab.kernel.accessAllowed ? 'block' : 'none';\n",
              "    })();\n",
              "  </script>\n",
              "</div>\n",
              "\n",
              "  <div id=\"id_cde42706-b250-4d06-a9b6-247dbb766180\">\n",
              "    <style>\n",
              "      .colab-df-generate {\n",
              "        background-color: #E8F0FE;\n",
              "        border: none;\n",
              "        border-radius: 50%;\n",
              "        cursor: pointer;\n",
              "        display: none;\n",
              "        fill: #1967D2;\n",
              "        height: 32px;\n",
              "        padding: 0 0 0 0;\n",
              "        width: 32px;\n",
              "      }\n",
              "\n",
              "      .colab-df-generate:hover {\n",
              "        background-color: #E2EBFA;\n",
              "        box-shadow: 0px 1px 2px rgba(60, 64, 67, 0.3), 0px 1px 3px 1px rgba(60, 64, 67, 0.15);\n",
              "        fill: #174EA6;\n",
              "      }\n",
              "\n",
              "      [theme=dark] .colab-df-generate {\n",
              "        background-color: #3B4455;\n",
              "        fill: #D2E3FC;\n",
              "      }\n",
              "\n",
              "      [theme=dark] .colab-df-generate:hover {\n",
              "        background-color: #434B5C;\n",
              "        box-shadow: 0px 1px 3px 1px rgba(0, 0, 0, 0.15);\n",
              "        filter: drop-shadow(0px 1px 2px rgba(0, 0, 0, 0.3));\n",
              "        fill: #FFFFFF;\n",
              "      }\n",
              "    </style>\n",
              "    <button class=\"colab-df-generate\" onclick=\"generateWithVariable('df')\"\n",
              "            title=\"Generate code using this dataframe.\"\n",
              "            style=\"display:none;\">\n",
              "\n",
              "  <svg xmlns=\"http://www.w3.org/2000/svg\" height=\"24px\"viewBox=\"0 0 24 24\"\n",
              "       width=\"24px\">\n",
              "    <path d=\"M7,19H8.4L18.45,9,17,7.55,7,17.6ZM5,21V16.75L18.45,3.32a2,2,0,0,1,2.83,0l1.4,1.43a1.91,1.91,0,0,1,.58,1.4,1.91,1.91,0,0,1-.58,1.4L9.25,21ZM18.45,9,17,7.55Zm-12,3A5.31,5.31,0,0,0,4.9,8.1,5.31,5.31,0,0,0,1,6.5,5.31,5.31,0,0,0,4.9,4.9,5.31,5.31,0,0,0,6.5,1,5.31,5.31,0,0,0,8.1,4.9,5.31,5.31,0,0,0,12,6.5,5.46,5.46,0,0,0,6.5,12Z\"/>\n",
              "  </svg>\n",
              "    </button>\n",
              "    <script>\n",
              "      (() => {\n",
              "      const buttonEl =\n",
              "        document.querySelector('#id_cde42706-b250-4d06-a9b6-247dbb766180 button.colab-df-generate');\n",
              "      buttonEl.style.display =\n",
              "        google.colab.kernel.accessAllowed ? 'block' : 'none';\n",
              "\n",
              "      buttonEl.onclick = () => {\n",
              "        google.colab.notebook.generateWithVariable('df');\n",
              "      }\n",
              "      })();\n",
              "    </script>\n",
              "  </div>\n",
              "\n",
              "    </div>\n",
              "  </div>\n"
            ],
            "application/vnd.google.colaboratory.intrinsic+json": {
              "type": "dataframe",
              "variable_name": "df",
              "summary": "{\n  \"name\": \"df\",\n  \"rows\": 48842,\n  \"fields\": [\n    {\n      \"column\": \"age\",\n      \"properties\": {\n        \"dtype\": \"number\",\n        \"std\": 13,\n        \"min\": 17,\n        \"max\": 90,\n        \"num_unique_values\": 74,\n        \"samples\": [\n          28,\n          73,\n          35\n        ],\n        \"semantic_type\": \"\",\n        \"description\": \"\"\n      }\n    },\n    {\n      \"column\": \"workclass\",\n      \"properties\": {\n        \"dtype\": \"category\",\n        \"num_unique_values\": 9,\n        \"samples\": [\n          \"Without-pay\",\n          \"Self-emp-not-inc\",\n          \"?\"\n        ],\n        \"semantic_type\": \"\",\n        \"description\": \"\"\n      }\n    },\n    {\n      \"column\": \"fnlwgt\",\n      \"properties\": {\n        \"dtype\": \"number\",\n        \"std\": 105604,\n        \"min\": 12285,\n        \"max\": 1490400,\n        \"num_unique_values\": 28523,\n        \"samples\": [\n          159077,\n          199450,\n          181773\n        ],\n        \"semantic_type\": \"\",\n        \"description\": \"\"\n      }\n    },\n    {\n      \"column\": \"education\",\n      \"properties\": {\n        \"dtype\": \"category\",\n        \"num_unique_values\": 16,\n        \"samples\": [\n          \"Bachelors\",\n          \"HS-grad\",\n          \"Some-college\"\n        ],\n        \"semantic_type\": \"\",\n        \"description\": \"\"\n      }\n    },\n    {\n      \"column\": \"education-num\",\n      \"properties\": {\n        \"dtype\": \"number\",\n        \"std\": 2,\n        \"min\": 1,\n        \"max\": 16,\n        \"num_unique_values\": 16,\n        \"samples\": [\n          13,\n          9,\n          10\n        ],\n        \"semantic_type\": \"\",\n        \"description\": \"\"\n      }\n    },\n    {\n      \"column\": \"marital-status\",\n      \"properties\": {\n        \"dtype\": \"category\",\n        \"num_unique_values\": 7,\n        \"samples\": [\n          \"Never-married\",\n          \"Married-civ-spouse\",\n          \"Married-AF-spouse\"\n        ],\n        \"semantic_type\": \"\",\n        \"description\": \"\"\n      }\n    },\n    {\n      \"column\": \"occupation\",\n      \"properties\": {\n        \"dtype\": \"category\",\n        \"num_unique_values\": 15,\n        \"samples\": [\n          \"Machine-op-inspct\",\n          \"?\",\n          \"Adm-clerical\"\n        ],\n        \"semantic_type\": \"\",\n        \"description\": \"\"\n      }\n    },\n    {\n      \"column\": \"relationship\",\n      \"properties\": {\n        \"dtype\": \"category\",\n        \"num_unique_values\": 6,\n        \"samples\": [\n          \"Not-in-family\",\n          \"Husband\",\n          \"Other-relative\"\n        ],\n        \"semantic_type\": \"\",\n        \"description\": \"\"\n      }\n    },\n    {\n      \"column\": \"race\",\n      \"properties\": {\n        \"dtype\": \"category\",\n        \"num_unique_values\": 5,\n        \"samples\": [\n          \"Black\",\n          \"Other\",\n          \"Asian-Pac-Islander\"\n        ],\n        \"semantic_type\": \"\",\n        \"description\": \"\"\n      }\n    },\n    {\n      \"column\": \"sex\",\n      \"properties\": {\n        \"dtype\": \"category\",\n        \"num_unique_values\": 2,\n        \"samples\": [\n          \"Female\",\n          \"Male\"\n        ],\n        \"semantic_type\": \"\",\n        \"description\": \"\"\n      }\n    },\n    {\n      \"column\": \"capital-gain\",\n      \"properties\": {\n        \"dtype\": \"number\",\n        \"std\": 7452,\n        \"min\": 0,\n        \"max\": 99999,\n        \"num_unique_values\": 123,\n        \"samples\": [\n          2176,\n          10520\n        ],\n        \"semantic_type\": \"\",\n        \"description\": \"\"\n      }\n    },\n    {\n      \"column\": \"capital-loss\",\n      \"properties\": {\n        \"dtype\": \"number\",\n        \"std\": 403,\n        \"min\": 0,\n        \"max\": 4356,\n        \"num_unique_values\": 99,\n        \"samples\": [\n          1974,\n          419\n        ],\n        \"semantic_type\": \"\",\n        \"description\": \"\"\n      }\n    },\n    {\n      \"column\": \"hours-per-week\",\n      \"properties\": {\n        \"dtype\": \"number\",\n        \"std\": 12,\n        \"min\": 1,\n        \"max\": 99,\n        \"num_unique_values\": 96,\n        \"samples\": [\n          97,\n          88\n        ],\n        \"semantic_type\": \"\",\n        \"description\": \"\"\n      }\n    },\n    {\n      \"column\": \"native-country\",\n      \"properties\": {\n        \"dtype\": \"category\",\n        \"num_unique_values\": 42,\n        \"samples\": [\n          \"El-Salvador\",\n          \"Philippines\"\n        ],\n        \"semantic_type\": \"\",\n        \"description\": \"\"\n      }\n    },\n    {\n      \"column\": \"income\",\n      \"properties\": {\n        \"dtype\": \"category\",\n        \"num_unique_values\": 4,\n        \"samples\": [\n          \">50K\",\n          \">50K.\"\n        ],\n        \"semantic_type\": \"\",\n        \"description\": \"\"\n      }\n    }\n  ]\n}"
            }
          },
          "metadata": {},
          "execution_count": 32
        }
      ]
    },
    {
      "cell_type": "code",
      "source": [
        "df['income'].unique()"
      ],
      "metadata": {
        "colab": {
          "base_uri": "https://localhost:8080/"
        },
        "id": "LJP94UiHal-u",
        "outputId": "4a304d36-2ebf-4917-d1ef-9a5c41f30e91"
      },
      "execution_count": 33,
      "outputs": [
        {
          "output_type": "execute_result",
          "data": {
            "text/plain": [
              "array(['<=50K', '>50K', '<=50K.', '>50K.'], dtype=object)"
            ]
          },
          "metadata": {},
          "execution_count": 33
        }
      ]
    },
    {
      "cell_type": "code",
      "source": [
        "df['income'] = df['income'].astype(str).str.replace('.', '')"
      ],
      "metadata": {
        "id": "IJKrteCTbGBs"
      },
      "execution_count": 34,
      "outputs": []
    },
    {
      "cell_type": "code",
      "source": [
        "label = LabelEncoder()\n",
        "df = df.apply(label.fit_transform)"
      ],
      "metadata": {
        "id": "y_M0hxNGfAaC"
      },
      "execution_count": 35,
      "outputs": []
    },
    {
      "cell_type": "code",
      "source": [
        "df.corr()"
      ],
      "metadata": {
        "id": "5QMlDBUTfiVo",
        "colab": {
          "base_uri": "https://localhost:8080/",
          "height": 607
        },
        "outputId": "e4c6b400-3e11-4048-aa88-3415bf35a73e"
      },
      "execution_count": 36,
      "outputs": [
        {
          "output_type": "execute_result",
          "data": {
            "text/plain": [
              "                     age  workclass    fnlwgt  education  education-num  \\\n",
              "age             1.000000   0.016248 -0.078902  -0.015058       0.030940   \n",
              "workclass       0.016248   1.000000 -0.024255   0.015664       0.015436   \n",
              "fnlwgt         -0.078902  -0.024255  1.000000  -0.019959      -0.037765   \n",
              "education      -0.015058   0.015664 -0.019959   1.000000       0.359668   \n",
              "education-num   0.030940   0.015436 -0.037765   0.359668       1.000000   \n",
              "marital-status -0.263978  -0.021336  0.031083  -0.037417      -0.069992   \n",
              "occupation     -0.014721   0.291224 -0.001169  -0.021515       0.087977   \n",
              "relationship   -0.263383  -0.047994  0.007378  -0.010758      -0.090534   \n",
              "race            0.028421   0.043965 -0.012369   0.013250       0.029239   \n",
              "sex             0.088120   0.058775  0.028302  -0.027041       0.009328   \n",
              "capital-gain    0.126027   0.009899 -0.006651   0.032601       0.154481   \n",
              "capital-loss    0.062223   0.010077 -0.003616   0.016944       0.084184   \n",
              "hours-per-week  0.071637   0.052453 -0.013077   0.058070       0.144799   \n",
              "native-country -0.002516   0.001600 -0.056929   0.066181       0.062457   \n",
              "income          0.230369   0.006258 -0.005881   0.080091       0.332613   \n",
              "\n",
              "                marital-status  occupation  relationship      race       sex  \\\n",
              "age                  -0.263978   -0.014721     -0.263383  0.028421  0.088120   \n",
              "workclass            -0.021336    0.291224     -0.047994  0.043965  0.058775   \n",
              "fnlwgt                0.031083   -0.001169      0.007378 -0.012369  0.028302   \n",
              "education            -0.037417   -0.021515     -0.010758  0.013250 -0.027041   \n",
              "education-num        -0.069992    0.087977     -0.090534  0.029239  0.009328   \n",
              "marital-status        1.000000    0.009486      0.187800 -0.070104 -0.127479   \n",
              "occupation            0.009486    1.000000     -0.051154  0.001504  0.057119   \n",
              "relationship          0.187800   -0.051154      1.000000 -0.117041 -0.579797   \n",
              "race                 -0.070104    0.001504     -0.117041  1.000000  0.086734   \n",
              "sex                  -0.127479    0.057119     -0.579797  0.086734  1.000000   \n",
              "capital-gain         -0.075776    0.016424     -0.093409  0.025255  0.076261   \n",
              "capital-loss         -0.034518    0.014978     -0.060441  0.019256  0.048981   \n",
              "hours-per-week       -0.186509    0.029455     -0.251573  0.039935  0.229618   \n",
              "native-country       -0.019584   -0.003213     -0.003897  0.130620 -0.008983   \n",
              "income               -0.199072    0.049353     -0.253214  0.070934  0.214628   \n",
              "\n",
              "                capital-gain  capital-loss  hours-per-week  native-country  \\\n",
              "age                 0.126027      0.062223        0.071637       -0.002516   \n",
              "workclass           0.009899      0.010077        0.052453        0.001600   \n",
              "fnlwgt             -0.006651     -0.003616       -0.013077       -0.056929   \n",
              "education           0.032601      0.016944        0.058070        0.066181   \n",
              "education-num       0.154481      0.084184        0.144799        0.062457   \n",
              "marital-status     -0.075776     -0.034518       -0.186509       -0.019584   \n",
              "occupation          0.016424      0.014978        0.029455       -0.003213   \n",
              "relationship       -0.093409     -0.060441       -0.251573       -0.003897   \n",
              "race                0.025255      0.019256        0.039935        0.130620   \n",
              "sex                 0.076261      0.048981        0.229618       -0.008983   \n",
              "capital-gain        1.000000     -0.056985        0.101855        0.007700   \n",
              "capital-loss       -0.056985      1.000000        0.058859        0.000136   \n",
              "hours-per-week      0.101855      0.058859        1.000000       -0.000377   \n",
              "native-country      0.007700      0.000136       -0.000377        1.000000   \n",
              "income              0.339128      0.159054        0.229022        0.015379   \n",
              "\n",
              "                  income  \n",
              "age             0.230369  \n",
              "workclass       0.006258  \n",
              "fnlwgt         -0.005881  \n",
              "education       0.080091  \n",
              "education-num   0.332613  \n",
              "marital-status -0.199072  \n",
              "occupation      0.049353  \n",
              "relationship   -0.253214  \n",
              "race            0.070934  \n",
              "sex             0.214628  \n",
              "capital-gain    0.339128  \n",
              "capital-loss    0.159054  \n",
              "hours-per-week  0.229022  \n",
              "native-country  0.015379  \n",
              "income          1.000000  "
            ],
            "text/html": [
              "\n",
              "  <div id=\"df-459eaecc-95a7-4ef7-b55a-46a26e83133e\" class=\"colab-df-container\">\n",
              "    <div>\n",
              "<style scoped>\n",
              "    .dataframe tbody tr th:only-of-type {\n",
              "        vertical-align: middle;\n",
              "    }\n",
              "\n",
              "    .dataframe tbody tr th {\n",
              "        vertical-align: top;\n",
              "    }\n",
              "\n",
              "    .dataframe thead th {\n",
              "        text-align: right;\n",
              "    }\n",
              "</style>\n",
              "<table border=\"1\" class=\"dataframe\">\n",
              "  <thead>\n",
              "    <tr style=\"text-align: right;\">\n",
              "      <th></th>\n",
              "      <th>age</th>\n",
              "      <th>workclass</th>\n",
              "      <th>fnlwgt</th>\n",
              "      <th>education</th>\n",
              "      <th>education-num</th>\n",
              "      <th>marital-status</th>\n",
              "      <th>occupation</th>\n",
              "      <th>relationship</th>\n",
              "      <th>race</th>\n",
              "      <th>sex</th>\n",
              "      <th>capital-gain</th>\n",
              "      <th>capital-loss</th>\n",
              "      <th>hours-per-week</th>\n",
              "      <th>native-country</th>\n",
              "      <th>income</th>\n",
              "    </tr>\n",
              "  </thead>\n",
              "  <tbody>\n",
              "    <tr>\n",
              "      <th>age</th>\n",
              "      <td>1.000000</td>\n",
              "      <td>0.016248</td>\n",
              "      <td>-0.078902</td>\n",
              "      <td>-0.015058</td>\n",
              "      <td>0.030940</td>\n",
              "      <td>-0.263978</td>\n",
              "      <td>-0.014721</td>\n",
              "      <td>-0.263383</td>\n",
              "      <td>0.028421</td>\n",
              "      <td>0.088120</td>\n",
              "      <td>0.126027</td>\n",
              "      <td>0.062223</td>\n",
              "      <td>0.071637</td>\n",
              "      <td>-0.002516</td>\n",
              "      <td>0.230369</td>\n",
              "    </tr>\n",
              "    <tr>\n",
              "      <th>workclass</th>\n",
              "      <td>0.016248</td>\n",
              "      <td>1.000000</td>\n",
              "      <td>-0.024255</td>\n",
              "      <td>0.015664</td>\n",
              "      <td>0.015436</td>\n",
              "      <td>-0.021336</td>\n",
              "      <td>0.291224</td>\n",
              "      <td>-0.047994</td>\n",
              "      <td>0.043965</td>\n",
              "      <td>0.058775</td>\n",
              "      <td>0.009899</td>\n",
              "      <td>0.010077</td>\n",
              "      <td>0.052453</td>\n",
              "      <td>0.001600</td>\n",
              "      <td>0.006258</td>\n",
              "    </tr>\n",
              "    <tr>\n",
              "      <th>fnlwgt</th>\n",
              "      <td>-0.078902</td>\n",
              "      <td>-0.024255</td>\n",
              "      <td>1.000000</td>\n",
              "      <td>-0.019959</td>\n",
              "      <td>-0.037765</td>\n",
              "      <td>0.031083</td>\n",
              "      <td>-0.001169</td>\n",
              "      <td>0.007378</td>\n",
              "      <td>-0.012369</td>\n",
              "      <td>0.028302</td>\n",
              "      <td>-0.006651</td>\n",
              "      <td>-0.003616</td>\n",
              "      <td>-0.013077</td>\n",
              "      <td>-0.056929</td>\n",
              "      <td>-0.005881</td>\n",
              "    </tr>\n",
              "    <tr>\n",
              "      <th>education</th>\n",
              "      <td>-0.015058</td>\n",
              "      <td>0.015664</td>\n",
              "      <td>-0.019959</td>\n",
              "      <td>1.000000</td>\n",
              "      <td>0.359668</td>\n",
              "      <td>-0.037417</td>\n",
              "      <td>-0.021515</td>\n",
              "      <td>-0.010758</td>\n",
              "      <td>0.013250</td>\n",
              "      <td>-0.027041</td>\n",
              "      <td>0.032601</td>\n",
              "      <td>0.016944</td>\n",
              "      <td>0.058070</td>\n",
              "      <td>0.066181</td>\n",
              "      <td>0.080091</td>\n",
              "    </tr>\n",
              "    <tr>\n",
              "      <th>education-num</th>\n",
              "      <td>0.030940</td>\n",
              "      <td>0.015436</td>\n",
              "      <td>-0.037765</td>\n",
              "      <td>0.359668</td>\n",
              "      <td>1.000000</td>\n",
              "      <td>-0.069992</td>\n",
              "      <td>0.087977</td>\n",
              "      <td>-0.090534</td>\n",
              "      <td>0.029239</td>\n",
              "      <td>0.009328</td>\n",
              "      <td>0.154481</td>\n",
              "      <td>0.084184</td>\n",
              "      <td>0.144799</td>\n",
              "      <td>0.062457</td>\n",
              "      <td>0.332613</td>\n",
              "    </tr>\n",
              "    <tr>\n",
              "      <th>marital-status</th>\n",
              "      <td>-0.263978</td>\n",
              "      <td>-0.021336</td>\n",
              "      <td>0.031083</td>\n",
              "      <td>-0.037417</td>\n",
              "      <td>-0.069992</td>\n",
              "      <td>1.000000</td>\n",
              "      <td>0.009486</td>\n",
              "      <td>0.187800</td>\n",
              "      <td>-0.070104</td>\n",
              "      <td>-0.127479</td>\n",
              "      <td>-0.075776</td>\n",
              "      <td>-0.034518</td>\n",
              "      <td>-0.186509</td>\n",
              "      <td>-0.019584</td>\n",
              "      <td>-0.199072</td>\n",
              "    </tr>\n",
              "    <tr>\n",
              "      <th>occupation</th>\n",
              "      <td>-0.014721</td>\n",
              "      <td>0.291224</td>\n",
              "      <td>-0.001169</td>\n",
              "      <td>-0.021515</td>\n",
              "      <td>0.087977</td>\n",
              "      <td>0.009486</td>\n",
              "      <td>1.000000</td>\n",
              "      <td>-0.051154</td>\n",
              "      <td>0.001504</td>\n",
              "      <td>0.057119</td>\n",
              "      <td>0.016424</td>\n",
              "      <td>0.014978</td>\n",
              "      <td>0.029455</td>\n",
              "      <td>-0.003213</td>\n",
              "      <td>0.049353</td>\n",
              "    </tr>\n",
              "    <tr>\n",
              "      <th>relationship</th>\n",
              "      <td>-0.263383</td>\n",
              "      <td>-0.047994</td>\n",
              "      <td>0.007378</td>\n",
              "      <td>-0.010758</td>\n",
              "      <td>-0.090534</td>\n",
              "      <td>0.187800</td>\n",
              "      <td>-0.051154</td>\n",
              "      <td>1.000000</td>\n",
              "      <td>-0.117041</td>\n",
              "      <td>-0.579797</td>\n",
              "      <td>-0.093409</td>\n",
              "      <td>-0.060441</td>\n",
              "      <td>-0.251573</td>\n",
              "      <td>-0.003897</td>\n",
              "      <td>-0.253214</td>\n",
              "    </tr>\n",
              "    <tr>\n",
              "      <th>race</th>\n",
              "      <td>0.028421</td>\n",
              "      <td>0.043965</td>\n",
              "      <td>-0.012369</td>\n",
              "      <td>0.013250</td>\n",
              "      <td>0.029239</td>\n",
              "      <td>-0.070104</td>\n",
              "      <td>0.001504</td>\n",
              "      <td>-0.117041</td>\n",
              "      <td>1.000000</td>\n",
              "      <td>0.086734</td>\n",
              "      <td>0.025255</td>\n",
              "      <td>0.019256</td>\n",
              "      <td>0.039935</td>\n",
              "      <td>0.130620</td>\n",
              "      <td>0.070934</td>\n",
              "    </tr>\n",
              "    <tr>\n",
              "      <th>sex</th>\n",
              "      <td>0.088120</td>\n",
              "      <td>0.058775</td>\n",
              "      <td>0.028302</td>\n",
              "      <td>-0.027041</td>\n",
              "      <td>0.009328</td>\n",
              "      <td>-0.127479</td>\n",
              "      <td>0.057119</td>\n",
              "      <td>-0.579797</td>\n",
              "      <td>0.086734</td>\n",
              "      <td>1.000000</td>\n",
              "      <td>0.076261</td>\n",
              "      <td>0.048981</td>\n",
              "      <td>0.229618</td>\n",
              "      <td>-0.008983</td>\n",
              "      <td>0.214628</td>\n",
              "    </tr>\n",
              "    <tr>\n",
              "      <th>capital-gain</th>\n",
              "      <td>0.126027</td>\n",
              "      <td>0.009899</td>\n",
              "      <td>-0.006651</td>\n",
              "      <td>0.032601</td>\n",
              "      <td>0.154481</td>\n",
              "      <td>-0.075776</td>\n",
              "      <td>0.016424</td>\n",
              "      <td>-0.093409</td>\n",
              "      <td>0.025255</td>\n",
              "      <td>0.076261</td>\n",
              "      <td>1.000000</td>\n",
              "      <td>-0.056985</td>\n",
              "      <td>0.101855</td>\n",
              "      <td>0.007700</td>\n",
              "      <td>0.339128</td>\n",
              "    </tr>\n",
              "    <tr>\n",
              "      <th>capital-loss</th>\n",
              "      <td>0.062223</td>\n",
              "      <td>0.010077</td>\n",
              "      <td>-0.003616</td>\n",
              "      <td>0.016944</td>\n",
              "      <td>0.084184</td>\n",
              "      <td>-0.034518</td>\n",
              "      <td>0.014978</td>\n",
              "      <td>-0.060441</td>\n",
              "      <td>0.019256</td>\n",
              "      <td>0.048981</td>\n",
              "      <td>-0.056985</td>\n",
              "      <td>1.000000</td>\n",
              "      <td>0.058859</td>\n",
              "      <td>0.000136</td>\n",
              "      <td>0.159054</td>\n",
              "    </tr>\n",
              "    <tr>\n",
              "      <th>hours-per-week</th>\n",
              "      <td>0.071637</td>\n",
              "      <td>0.052453</td>\n",
              "      <td>-0.013077</td>\n",
              "      <td>0.058070</td>\n",
              "      <td>0.144799</td>\n",
              "      <td>-0.186509</td>\n",
              "      <td>0.029455</td>\n",
              "      <td>-0.251573</td>\n",
              "      <td>0.039935</td>\n",
              "      <td>0.229618</td>\n",
              "      <td>0.101855</td>\n",
              "      <td>0.058859</td>\n",
              "      <td>1.000000</td>\n",
              "      <td>-0.000377</td>\n",
              "      <td>0.229022</td>\n",
              "    </tr>\n",
              "    <tr>\n",
              "      <th>native-country</th>\n",
              "      <td>-0.002516</td>\n",
              "      <td>0.001600</td>\n",
              "      <td>-0.056929</td>\n",
              "      <td>0.066181</td>\n",
              "      <td>0.062457</td>\n",
              "      <td>-0.019584</td>\n",
              "      <td>-0.003213</td>\n",
              "      <td>-0.003897</td>\n",
              "      <td>0.130620</td>\n",
              "      <td>-0.008983</td>\n",
              "      <td>0.007700</td>\n",
              "      <td>0.000136</td>\n",
              "      <td>-0.000377</td>\n",
              "      <td>1.000000</td>\n",
              "      <td>0.015379</td>\n",
              "    </tr>\n",
              "    <tr>\n",
              "      <th>income</th>\n",
              "      <td>0.230369</td>\n",
              "      <td>0.006258</td>\n",
              "      <td>-0.005881</td>\n",
              "      <td>0.080091</td>\n",
              "      <td>0.332613</td>\n",
              "      <td>-0.199072</td>\n",
              "      <td>0.049353</td>\n",
              "      <td>-0.253214</td>\n",
              "      <td>0.070934</td>\n",
              "      <td>0.214628</td>\n",
              "      <td>0.339128</td>\n",
              "      <td>0.159054</td>\n",
              "      <td>0.229022</td>\n",
              "      <td>0.015379</td>\n",
              "      <td>1.000000</td>\n",
              "    </tr>\n",
              "  </tbody>\n",
              "</table>\n",
              "</div>\n",
              "    <div class=\"colab-df-buttons\">\n",
              "\n",
              "  <div class=\"colab-df-container\">\n",
              "    <button class=\"colab-df-convert\" onclick=\"convertToInteractive('df-459eaecc-95a7-4ef7-b55a-46a26e83133e')\"\n",
              "            title=\"Convert this dataframe to an interactive table.\"\n",
              "            style=\"display:none;\">\n",
              "\n",
              "  <svg xmlns=\"http://www.w3.org/2000/svg\" height=\"24px\" viewBox=\"0 -960 960 960\">\n",
              "    <path d=\"M120-120v-720h720v720H120Zm60-500h600v-160H180v160Zm220 220h160v-160H400v160Zm0 220h160v-160H400v160ZM180-400h160v-160H180v160Zm440 0h160v-160H620v160ZM180-180h160v-160H180v160Zm440 0h160v-160H620v160Z\"/>\n",
              "  </svg>\n",
              "    </button>\n",
              "\n",
              "  <style>\n",
              "    .colab-df-container {\n",
              "      display:flex;\n",
              "      gap: 12px;\n",
              "    }\n",
              "\n",
              "    .colab-df-convert {\n",
              "      background-color: #E8F0FE;\n",
              "      border: none;\n",
              "      border-radius: 50%;\n",
              "      cursor: pointer;\n",
              "      display: none;\n",
              "      fill: #1967D2;\n",
              "      height: 32px;\n",
              "      padding: 0 0 0 0;\n",
              "      width: 32px;\n",
              "    }\n",
              "\n",
              "    .colab-df-convert:hover {\n",
              "      background-color: #E2EBFA;\n",
              "      box-shadow: 0px 1px 2px rgba(60, 64, 67, 0.3), 0px 1px 3px 1px rgba(60, 64, 67, 0.15);\n",
              "      fill: #174EA6;\n",
              "    }\n",
              "\n",
              "    .colab-df-buttons div {\n",
              "      margin-bottom: 4px;\n",
              "    }\n",
              "\n",
              "    [theme=dark] .colab-df-convert {\n",
              "      background-color: #3B4455;\n",
              "      fill: #D2E3FC;\n",
              "    }\n",
              "\n",
              "    [theme=dark] .colab-df-convert:hover {\n",
              "      background-color: #434B5C;\n",
              "      box-shadow: 0px 1px 3px 1px rgba(0, 0, 0, 0.15);\n",
              "      filter: drop-shadow(0px 1px 2px rgba(0, 0, 0, 0.3));\n",
              "      fill: #FFFFFF;\n",
              "    }\n",
              "  </style>\n",
              "\n",
              "    <script>\n",
              "      const buttonEl =\n",
              "        document.querySelector('#df-459eaecc-95a7-4ef7-b55a-46a26e83133e button.colab-df-convert');\n",
              "      buttonEl.style.display =\n",
              "        google.colab.kernel.accessAllowed ? 'block' : 'none';\n",
              "\n",
              "      async function convertToInteractive(key) {\n",
              "        const element = document.querySelector('#df-459eaecc-95a7-4ef7-b55a-46a26e83133e');\n",
              "        const dataTable =\n",
              "          await google.colab.kernel.invokeFunction('convertToInteractive',\n",
              "                                                    [key], {});\n",
              "        if (!dataTable) return;\n",
              "\n",
              "        const docLinkHtml = 'Like what you see? Visit the ' +\n",
              "          '<a target=\"_blank\" href=https://colab.research.google.com/notebooks/data_table.ipynb>data table notebook</a>'\n",
              "          + ' to learn more about interactive tables.';\n",
              "        element.innerHTML = '';\n",
              "        dataTable['output_type'] = 'display_data';\n",
              "        await google.colab.output.renderOutput(dataTable, element);\n",
              "        const docLink = document.createElement('div');\n",
              "        docLink.innerHTML = docLinkHtml;\n",
              "        element.appendChild(docLink);\n",
              "      }\n",
              "    </script>\n",
              "  </div>\n",
              "\n",
              "\n",
              "<div id=\"df-e4e0f80e-44db-480f-8e32-5a391f75b540\">\n",
              "  <button class=\"colab-df-quickchart\" onclick=\"quickchart('df-e4e0f80e-44db-480f-8e32-5a391f75b540')\"\n",
              "            title=\"Suggest charts\"\n",
              "            style=\"display:none;\">\n",
              "\n",
              "<svg xmlns=\"http://www.w3.org/2000/svg\" height=\"24px\"viewBox=\"0 0 24 24\"\n",
              "     width=\"24px\">\n",
              "    <g>\n",
              "        <path d=\"M19 3H5c-1.1 0-2 .9-2 2v14c0 1.1.9 2 2 2h14c1.1 0 2-.9 2-2V5c0-1.1-.9-2-2-2zM9 17H7v-7h2v7zm4 0h-2V7h2v10zm4 0h-2v-4h2v4z\"/>\n",
              "    </g>\n",
              "</svg>\n",
              "  </button>\n",
              "\n",
              "<style>\n",
              "  .colab-df-quickchart {\n",
              "      --bg-color: #E8F0FE;\n",
              "      --fill-color: #1967D2;\n",
              "      --hover-bg-color: #E2EBFA;\n",
              "      --hover-fill-color: #174EA6;\n",
              "      --disabled-fill-color: #AAA;\n",
              "      --disabled-bg-color: #DDD;\n",
              "  }\n",
              "\n",
              "  [theme=dark] .colab-df-quickchart {\n",
              "      --bg-color: #3B4455;\n",
              "      --fill-color: #D2E3FC;\n",
              "      --hover-bg-color: #434B5C;\n",
              "      --hover-fill-color: #FFFFFF;\n",
              "      --disabled-bg-color: #3B4455;\n",
              "      --disabled-fill-color: #666;\n",
              "  }\n",
              "\n",
              "  .colab-df-quickchart {\n",
              "    background-color: var(--bg-color);\n",
              "    border: none;\n",
              "    border-radius: 50%;\n",
              "    cursor: pointer;\n",
              "    display: none;\n",
              "    fill: var(--fill-color);\n",
              "    height: 32px;\n",
              "    padding: 0;\n",
              "    width: 32px;\n",
              "  }\n",
              "\n",
              "  .colab-df-quickchart:hover {\n",
              "    background-color: var(--hover-bg-color);\n",
              "    box-shadow: 0 1px 2px rgba(60, 64, 67, 0.3), 0 1px 3px 1px rgba(60, 64, 67, 0.15);\n",
              "    fill: var(--button-hover-fill-color);\n",
              "  }\n",
              "\n",
              "  .colab-df-quickchart-complete:disabled,\n",
              "  .colab-df-quickchart-complete:disabled:hover {\n",
              "    background-color: var(--disabled-bg-color);\n",
              "    fill: var(--disabled-fill-color);\n",
              "    box-shadow: none;\n",
              "  }\n",
              "\n",
              "  .colab-df-spinner {\n",
              "    border: 2px solid var(--fill-color);\n",
              "    border-color: transparent;\n",
              "    border-bottom-color: var(--fill-color);\n",
              "    animation:\n",
              "      spin 1s steps(1) infinite;\n",
              "  }\n",
              "\n",
              "  @keyframes spin {\n",
              "    0% {\n",
              "      border-color: transparent;\n",
              "      border-bottom-color: var(--fill-color);\n",
              "      border-left-color: var(--fill-color);\n",
              "    }\n",
              "    20% {\n",
              "      border-color: transparent;\n",
              "      border-left-color: var(--fill-color);\n",
              "      border-top-color: var(--fill-color);\n",
              "    }\n",
              "    30% {\n",
              "      border-color: transparent;\n",
              "      border-left-color: var(--fill-color);\n",
              "      border-top-color: var(--fill-color);\n",
              "      border-right-color: var(--fill-color);\n",
              "    }\n",
              "    40% {\n",
              "      border-color: transparent;\n",
              "      border-right-color: var(--fill-color);\n",
              "      border-top-color: var(--fill-color);\n",
              "    }\n",
              "    60% {\n",
              "      border-color: transparent;\n",
              "      border-right-color: var(--fill-color);\n",
              "    }\n",
              "    80% {\n",
              "      border-color: transparent;\n",
              "      border-right-color: var(--fill-color);\n",
              "      border-bottom-color: var(--fill-color);\n",
              "    }\n",
              "    90% {\n",
              "      border-color: transparent;\n",
              "      border-bottom-color: var(--fill-color);\n",
              "    }\n",
              "  }\n",
              "</style>\n",
              "\n",
              "  <script>\n",
              "    async function quickchart(key) {\n",
              "      const quickchartButtonEl =\n",
              "        document.querySelector('#' + key + ' button');\n",
              "      quickchartButtonEl.disabled = true;  // To prevent multiple clicks.\n",
              "      quickchartButtonEl.classList.add('colab-df-spinner');\n",
              "      try {\n",
              "        const charts = await google.colab.kernel.invokeFunction(\n",
              "            'suggestCharts', [key], {});\n",
              "      } catch (error) {\n",
              "        console.error('Error during call to suggestCharts:', error);\n",
              "      }\n",
              "      quickchartButtonEl.classList.remove('colab-df-spinner');\n",
              "      quickchartButtonEl.classList.add('colab-df-quickchart-complete');\n",
              "    }\n",
              "    (() => {\n",
              "      let quickchartButtonEl =\n",
              "        document.querySelector('#df-e4e0f80e-44db-480f-8e32-5a391f75b540 button');\n",
              "      quickchartButtonEl.style.display =\n",
              "        google.colab.kernel.accessAllowed ? 'block' : 'none';\n",
              "    })();\n",
              "  </script>\n",
              "</div>\n",
              "\n",
              "    </div>\n",
              "  </div>\n"
            ],
            "application/vnd.google.colaboratory.intrinsic+json": {
              "type": "dataframe",
              "summary": "{\n  \"name\": \"df\",\n  \"rows\": 15,\n  \"fields\": [\n    {\n      \"column\": \"age\",\n      \"properties\": {\n        \"dtype\": \"number\",\n        \"std\": 0.28843685786647455,\n        \"min\": -0.26397785717111205,\n        \"max\": 1.0,\n        \"num_unique_values\": 15,\n        \"samples\": [\n          0.08812002181336633,\n          0.06222301849299262,\n          1.0\n        ],\n        \"semantic_type\": \"\",\n        \"description\": \"\"\n      }\n    },\n    {\n      \"column\": \"workclass\",\n      \"properties\": {\n        \"dtype\": \"number\",\n        \"std\": 0.26204384141231757,\n        \"min\": -0.04799352904282988,\n        \"max\": 1.0,\n        \"num_unique_values\": 15,\n        \"samples\": [\n          0.05877484595016688,\n          0.010076613369562976,\n          0.016247604680855024\n        ],\n        \"semantic_type\": \"\",\n        \"description\": \"\"\n      }\n    },\n    {\n      \"column\": \"fnlwgt\",\n      \"properties\": {\n        \"dtype\": \"number\",\n        \"std\": 0.263328755443344,\n        \"min\": -0.07890200087530487,\n        \"max\": 1.0,\n        \"num_unique_values\": 15,\n        \"samples\": [\n          0.02830225335854673,\n          -0.0036161652312310033,\n          -0.07890200087530487\n        ],\n        \"semantic_type\": \"\",\n        \"description\": \"\"\n      }\n    },\n    {\n      \"column\": \"education\",\n      \"properties\": {\n        \"dtype\": \"number\",\n        \"std\": 0.26679058961504887,\n        \"min\": -0.03741678535215494,\n        \"max\": 1.0,\n        \"num_unique_values\": 15,\n        \"samples\": [\n          -0.02704068830017666,\n          0.01694426995189971,\n          -0.015057718749527728\n        ],\n        \"semantic_type\": \"\",\n        \"description\": \"\"\n      }\n    },\n    {\n      \"column\": \"education-num\",\n      \"properties\": {\n        \"dtype\": \"number\",\n        \"std\": 0.2702652675854007,\n        \"min\": -0.09053417035396079,\n        \"max\": 1.0,\n        \"num_unique_values\": 15,\n        \"samples\": [\n          0.009328017717674102,\n          0.08418375399760072,\n          0.030940375874513718\n        ],\n        \"semantic_type\": \"\",\n        \"description\": \"\"\n      }\n    },\n    {\n      \"column\": \"marital-status\",\n      \"properties\": {\n        \"dtype\": \"number\",\n        \"std\": 0.2945528280179342,\n        \"min\": -0.26397785717111205,\n        \"max\": 1.0,\n        \"num_unique_values\": 15,\n        \"samples\": [\n          -0.12747945135836358,\n          -0.0345176613934604,\n          -0.26397785717111205\n        ],\n        \"semantic_type\": \"\",\n        \"description\": \"\"\n      }\n    },\n    {\n      \"column\": \"occupation\",\n      \"properties\": {\n        \"dtype\": \"number\",\n        \"std\": 0.26183199641488064,\n        \"min\": -0.051154238843195476,\n        \"max\": 1.0,\n        \"num_unique_values\": 15,\n        \"samples\": [\n          0.057118953701107165,\n          0.014978481630849,\n          -0.014721427410371917\n        ],\n        \"semantic_type\": \"\",\n        \"description\": \"\"\n      }\n    },\n    {\n      \"column\": \"relationship\",\n      \"properties\": {\n        \"dtype\": \"number\",\n        \"std\": 0.3360798539323614,\n        \"min\": -0.5797968852311898,\n        \"max\": 1.0,\n        \"num_unique_values\": 15,\n        \"samples\": [\n          -0.5797968852311898,\n          -0.06044126816652398,\n          -0.2633830826807988\n        ],\n        \"semantic_type\": \"\",\n        \"description\": \"\"\n      }\n    },\n    {\n      \"column\": \"race\",\n      \"properties\": {\n        \"dtype\": \"number\",\n        \"std\": 0.25965468283833576,\n        \"min\": -0.11704103155204003,\n        \"max\": 1.0,\n        \"num_unique_values\": 15,\n        \"samples\": [\n          0.08673414349634567,\n          0.019256377304386178,\n          0.028420826349111618\n        ],\n        \"semantic_type\": \"\",\n        \"description\": \"\"\n      }\n    },\n    {\n      \"column\": \"sex\",\n      \"properties\": {\n        \"dtype\": \"number\",\n        \"std\": 0.3155784339473998,\n        \"min\": -0.5797968852311898,\n        \"max\": 1.0,\n        \"num_unique_values\": 15,\n        \"samples\": [\n          1.0,\n          0.04898134619116594,\n          0.08812002181336633\n        ],\n        \"semantic_type\": \"\",\n        \"description\": \"\"\n      }\n    },\n    {\n      \"column\": \"capital-gain\",\n      \"properties\": {\n        \"dtype\": \"number\",\n        \"std\": 0.2683056135327989,\n        \"min\": -0.0934094987049492,\n        \"max\": 1.0,\n        \"num_unique_values\": 15,\n        \"samples\": [\n          0.07626084609198545,\n          -0.05698502151689659,\n          0.12602740396944093\n        ],\n        \"semantic_type\": \"\",\n        \"description\": \"\"\n      }\n    },\n    {\n      \"column\": \"capital-loss\",\n      \"properties\": {\n        \"dtype\": \"number\",\n        \"std\": 0.25845721538076205,\n        \"min\": -0.06044126816652398,\n        \"max\": 1.0,\n        \"num_unique_values\": 15,\n        \"samples\": [\n          0.04898134619116594,\n          1.0,\n          0.06222301849299262\n        ],\n        \"semantic_type\": \"\",\n        \"description\": \"\"\n      }\n    },\n    {\n      \"column\": \"hours-per-week\",\n      \"properties\": {\n        \"dtype\": \"number\",\n        \"std\": 0.27887995066655574,\n        \"min\": -0.25157287056670663,\n        \"max\": 1.0,\n        \"num_unique_values\": 15,\n        \"samples\": [\n          0.22961751663976365,\n          0.05885944832335917,\n          0.07163666033059171\n        ],\n        \"semantic_type\": \"\",\n        \"description\": \"\"\n      }\n    },\n    {\n      \"column\": \"native-country\",\n      \"properties\": {\n        \"dtype\": \"number\",\n        \"std\": 0.2584566086204307,\n        \"min\": -0.05692908551390869,\n        \"max\": 1.0,\n        \"num_unique_values\": 15,\n        \"samples\": [\n          -0.008982922083038252,\n          0.00013552169929009568,\n          -0.002516315092185649\n        ],\n        \"semantic_type\": \"\",\n        \"description\": \"\"\n      }\n    },\n    {\n      \"column\": \"income\",\n      \"properties\": {\n        \"dtype\": \"number\",\n        \"std\": 0.28999261139579696,\n        \"min\": -0.253213629065504,\n        \"max\": 1.0,\n        \"num_unique_values\": 15,\n        \"samples\": [\n          0.21462803456392784,\n          0.15905438827882726,\n          0.23036946784752085\n        ],\n        \"semantic_type\": \"\",\n        \"description\": \"\"\n      }\n    }\n  ]\n}"
            }
          },
          "metadata": {},
          "execution_count": 36
        }
      ]
    },
    {
      "cell_type": "code",
      "source": [
        "df.duplicated().sum()"
      ],
      "metadata": {
        "colab": {
          "base_uri": "https://localhost:8080/"
        },
        "id": "9WM9ANCVfrAD",
        "outputId": "6d1d3491-09b3-4175-9ba4-41df7b28d7c0"
      },
      "execution_count": 37,
      "outputs": [
        {
          "output_type": "execute_result",
          "data": {
            "text/plain": [
              "48"
            ]
          },
          "metadata": {},
          "execution_count": 37
        }
      ]
    },
    {
      "cell_type": "code",
      "source": [
        "df.isna().sum()"
      ],
      "metadata": {
        "colab": {
          "base_uri": "https://localhost:8080/",
          "height": 554
        },
        "id": "4F_QkACWf5Pf",
        "outputId": "d145a674-4d20-4e20-8a37-ee8a79a718b4"
      },
      "execution_count": 38,
      "outputs": [
        {
          "output_type": "execute_result",
          "data": {
            "text/plain": [
              "age               0\n",
              "workclass         0\n",
              "fnlwgt            0\n",
              "education         0\n",
              "education-num     0\n",
              "marital-status    0\n",
              "occupation        0\n",
              "relationship      0\n",
              "race              0\n",
              "sex               0\n",
              "capital-gain      0\n",
              "capital-loss      0\n",
              "hours-per-week    0\n",
              "native-country    0\n",
              "income            0\n",
              "dtype: int64"
            ],
            "text/html": [
              "<div>\n",
              "<style scoped>\n",
              "    .dataframe tbody tr th:only-of-type {\n",
              "        vertical-align: middle;\n",
              "    }\n",
              "\n",
              "    .dataframe tbody tr th {\n",
              "        vertical-align: top;\n",
              "    }\n",
              "\n",
              "    .dataframe thead th {\n",
              "        text-align: right;\n",
              "    }\n",
              "</style>\n",
              "<table border=\"1\" class=\"dataframe\">\n",
              "  <thead>\n",
              "    <tr style=\"text-align: right;\">\n",
              "      <th></th>\n",
              "      <th>0</th>\n",
              "    </tr>\n",
              "  </thead>\n",
              "  <tbody>\n",
              "    <tr>\n",
              "      <th>age</th>\n",
              "      <td>0</td>\n",
              "    </tr>\n",
              "    <tr>\n",
              "      <th>workclass</th>\n",
              "      <td>0</td>\n",
              "    </tr>\n",
              "    <tr>\n",
              "      <th>fnlwgt</th>\n",
              "      <td>0</td>\n",
              "    </tr>\n",
              "    <tr>\n",
              "      <th>education</th>\n",
              "      <td>0</td>\n",
              "    </tr>\n",
              "    <tr>\n",
              "      <th>education-num</th>\n",
              "      <td>0</td>\n",
              "    </tr>\n",
              "    <tr>\n",
              "      <th>marital-status</th>\n",
              "      <td>0</td>\n",
              "    </tr>\n",
              "    <tr>\n",
              "      <th>occupation</th>\n",
              "      <td>0</td>\n",
              "    </tr>\n",
              "    <tr>\n",
              "      <th>relationship</th>\n",
              "      <td>0</td>\n",
              "    </tr>\n",
              "    <tr>\n",
              "      <th>race</th>\n",
              "      <td>0</td>\n",
              "    </tr>\n",
              "    <tr>\n",
              "      <th>sex</th>\n",
              "      <td>0</td>\n",
              "    </tr>\n",
              "    <tr>\n",
              "      <th>capital-gain</th>\n",
              "      <td>0</td>\n",
              "    </tr>\n",
              "    <tr>\n",
              "      <th>capital-loss</th>\n",
              "      <td>0</td>\n",
              "    </tr>\n",
              "    <tr>\n",
              "      <th>hours-per-week</th>\n",
              "      <td>0</td>\n",
              "    </tr>\n",
              "    <tr>\n",
              "      <th>native-country</th>\n",
              "      <td>0</td>\n",
              "    </tr>\n",
              "    <tr>\n",
              "      <th>income</th>\n",
              "      <td>0</td>\n",
              "    </tr>\n",
              "  </tbody>\n",
              "</table>\n",
              "</div><br><label><b>dtype:</b> int64</label>"
            ]
          },
          "metadata": {},
          "execution_count": 38
        }
      ]
    },
    {
      "cell_type": "code",
      "source": [
        "df.drop_duplicates(inplace=True)"
      ],
      "metadata": {
        "id": "jbxb5VT2Z9PO"
      },
      "execution_count": 39,
      "outputs": []
    },
    {
      "cell_type": "code",
      "source": [
        "df.dropna(inplace=True)"
      ],
      "metadata": {
        "id": "1aEF7b11sDku"
      },
      "execution_count": 40,
      "outputs": []
    },
    {
      "cell_type": "code",
      "source": [
        "df.info()"
      ],
      "metadata": {
        "colab": {
          "base_uri": "https://localhost:8080/"
        },
        "id": "1Bupt3UzA88h",
        "outputId": "4cd88fbc-d1b6-486f-c67a-791a958f437f"
      },
      "execution_count": 41,
      "outputs": [
        {
          "output_type": "stream",
          "name": "stdout",
          "text": [
            "<class 'pandas.core.frame.DataFrame'>\n",
            "Index: 48794 entries, 0 to 48841\n",
            "Data columns (total 15 columns):\n",
            " #   Column          Non-Null Count  Dtype\n",
            "---  ------          --------------  -----\n",
            " 0   age             48794 non-null  int64\n",
            " 1   workclass       48794 non-null  int64\n",
            " 2   fnlwgt          48794 non-null  int64\n",
            " 3   education       48794 non-null  int64\n",
            " 4   education-num   48794 non-null  int64\n",
            " 5   marital-status  48794 non-null  int64\n",
            " 6   occupation      48794 non-null  int64\n",
            " 7   relationship    48794 non-null  int64\n",
            " 8   race            48794 non-null  int64\n",
            " 9   sex             48794 non-null  int64\n",
            " 10  capital-gain    48794 non-null  int64\n",
            " 11  capital-loss    48794 non-null  int64\n",
            " 12  hours-per-week  48794 non-null  int64\n",
            " 13  native-country  48794 non-null  int64\n",
            " 14  income          48794 non-null  int64\n",
            "dtypes: int64(15)\n",
            "memory usage: 6.0 MB\n"
          ]
        }
      ]
    },
    {
      "cell_type": "code",
      "source": [
        "plt.figure(figsize=(10, 10))\n",
        "sns.boxplot(data=df)\n",
        "plt.show()"
      ],
      "metadata": {
        "colab": {
          "base_uri": "https://localhost:8080/",
          "height": 830
        },
        "id": "lstM2eaNgdIh",
        "outputId": "a7e3efd4-86dc-404e-f13c-af2d96a8876c"
      },
      "execution_count": 42,
      "outputs": [
        {
          "output_type": "display_data",
          "data": {
            "text/plain": [
              "<Figure size 1000x1000 with 1 Axes>"
            ],
            "image/png": "[encoded data removed]"
          },
          "metadata": {}
        }
      ]
    },
    {
      "cell_type": "markdown",
      "source": [
        "## **Data Preparation**"
      ],
      "metadata": {
        "id": "mZkLHbU-BieV"
      }
    },
    {
      "cell_type": "code",
      "source": [
        "X = df.select_dtypes(include=np.number).drop('income', axis=1)\n",
        "y = df['income']"
      ],
      "metadata": {
        "id": "ttoYI_T8g4ep"
      },
      "execution_count": 43,
      "outputs": []
    },
    {
      "cell_type": "code",
      "source": [
        "Counter(y)"
      ],
      "metadata": {
        "colab": {
          "base_uri": "https://localhost:8080/"
        },
        "id": "4YOSIY2DcIRI",
        "outputId": "62eeaf1b-d6d0-4fd9-ed73-1f302783d342"
      },
      "execution_count": 44,
      "outputs": [
        {
          "output_type": "execute_result",
          "data": {
            "text/plain": [
              "Counter({0: 37113, 1: 11681})"
            ]
          },
          "metadata": {},
          "execution_count": 44
        }
      ]
    },
    {
      "cell_type": "code",
      "source": [
        "smote = SMOTE(sampling_strategy='auto', random_state=42)\n",
        "\n",
        "X_resampled, y_resampled = smote.fit_resample(X, y)"
      ],
      "metadata": {
        "id": "_DULJ6znchj4"
      },
      "execution_count": 45,
      "outputs": []
    },
    {
      "cell_type": "code",
      "source": [
        "X_train, X_test, y_train, y_test = train_test_split(X_resampled, y_resampled, test_size=0.2, random_state=42)"
      ],
      "metadata": {
        "id": "WsoBX88Rhsv2"
      },
      "execution_count": 46,
      "outputs": []
    },
    {
      "cell_type": "code",
      "source": [
        "scaler = StandardScaler()\n",
        "X_train = scaler.fit_transform(X_train)\n",
        "X_test = scaler.transform(X_test)"
      ],
      "metadata": {
        "id": "kU8vCCVRh0NG"
      },
      "execution_count": 47,
      "outputs": []
    },
    {
      "cell_type": "code",
      "source": [
        "y_scaler = StandardScaler()\n",
        "y_train = y_train.to_numpy()\n",
        "y_test = y_test.to_numpy()"
      ],
      "metadata": {
        "id": "qiUFZzzGh4xD"
      },
      "execution_count": 48,
      "outputs": []
    },
    {
      "cell_type": "code",
      "source": [
        "X_train.shape"
      ],
      "metadata": {
        "colab": {
          "base_uri": "https://localhost:8080/"
        },
        "id": "7VM3yrDUih9x",
        "outputId": "de652f03-0fae-48d4-b1d0-217613257b82"
      },
      "execution_count": 49,
      "outputs": [
        {
          "output_type": "execute_result",
          "data": {
            "text/plain": [
              "(59380, 14)"
            ]
          },
          "metadata": {},
          "execution_count": 49
        }
      ]
    },
    {
      "cell_type": "code",
      "source": [
        "imputer = SimpleImputer(strategy='mean')\n",
        "X_train = imputer.fit_transform(X_train)"
      ],
      "metadata": {
        "id": "8BeqcX0hpsqs"
      },
      "execution_count": 50,
      "outputs": []
    },
    {
      "cell_type": "code",
      "source": [
        "inputs = tf.keras.Input(shape=(X_train.shape[1],))\n",
        "x = tf.keras.layers.Dense(128, activation='relu')(inputs)\n",
        "x = tf.keras.layers.Dense(64, activation='relu')(x)\n",
        "x = tf.keras.layers.Dense(32, activation='relu')(x)\n",
        "outputs = tf.keras.layers.Dense(1, activation='sigmoid')(x)"
      ],
      "metadata": {
        "id": "m43CnEjeiH9f"
      },
      "execution_count": 51,
      "outputs": []
    },
    {
      "cell_type": "markdown",
      "source": [
        "## **Tensorflow Model**"
      ],
      "metadata": {
        "id": "uSw7lbI7t1u8"
      }
    },
    {
      "cell_type": "code",
      "source": [
        "model = tf.keras.Model(inputs=inputs, outputs=outputs)"
      ],
      "metadata": {
        "id": "nE4lAkRvjb2J"
      },
      "execution_count": 52,
      "outputs": []
    },
    {
      "cell_type": "code",
      "source": [
        "early_stopping = EarlyStopping(monitor='val_loss', patience=10, restore_best_weights=True)\n",
        "model.compile(\n",
        "    optimizer = 'adam',\n",
        "    loss='binary_crossentropy'\n",
        ")\n",
        "model.fit(X_train, y_train, epochs=100, batch_size=32, validation_split= 0.15, callbacks=[early_stopping])"
      ],
      "metadata": {
        "colab": {
          "base_uri": "https://localhost:8080/"
        },
        "id": "2z9feMA8jiTL",
        "outputId": "5277a58c-c7ab-45ab-95fb-afb6ac7e87b8"
      },
      "execution_count": 53,
      "outputs": [
        {
          "output_type": "stream",
          "name": "stdout",
          "text": [
            "Epoch 1/100\n",
            "\u001b[1m1578/1578\u001b[0m \u001b[32m━━━━━━━━━━━━━━━━━━━━\u001b[0m\u001b[37m\u001b[0m \u001b[1m5s\u001b[0m 2ms/step - loss: 0.4050 - val_loss: 0.3383\n",
            "Epoch 2/100\n",
            "\u001b[1m1578/1578\u001b[0m \u001b[32m━━━━━━━━━━━━━━━━━━━━\u001b[0m\u001b[37m\u001b[0m \u001b[1m5s\u001b[0m 3ms/step - loss: 0.3363 - val_loss: 0.3309\n",
            "Epoch 3/100\n",
            "\u001b[1m1578/1578\u001b[0m \u001b[32m━━━━━━━━━━━━━━━━━━━━\u001b[0m\u001b[37m\u001b[0m \u001b[1m4s\u001b[0m 2ms/step - loss: 0.3221 - val_loss: 0.3162\n",
            "Epoch 4/100\n",
            "\u001b[1m1578/1578\u001b[0m \u001b[32m━━━━━━━━━━━━━━━━━━━━\u001b[0m\u001b[37m\u001b[0m \u001b[1m6s\u001b[0m 3ms/step - loss: 0.3137 - val_loss: 0.3148\n",
            "Epoch 5/100\n",
            "\u001b[1m1578/1578\u001b[0m \u001b[32m━━━━━━━━━━━━━━━━━━━━\u001b[0m\u001b[37m\u001b[0m \u001b[1m4s\u001b[0m 3ms/step - loss: 0.3020 - val_loss: 0.3019\n",
            "Epoch 6/100\n",
            "\u001b[1m1578/1578\u001b[0m \u001b[32m━━━━━━━━━━━━━━━━━━━━\u001b[0m\u001b[37m\u001b[0m \u001b[1m5s\u001b[0m 3ms/step - loss: 0.2961 - val_loss: 0.2947\n",
            "Epoch 7/100\n",
            "\u001b[1m1578/1578\u001b[0m \u001b[32m━━━━━━━━━━━━━━━━━━━━\u001b[0m\u001b[37m\u001b[0m \u001b[1m6s\u001b[0m 3ms/step - loss: 0.2889 - val_loss: 0.2919\n",
            "Epoch 8/100\n",
            "\u001b[1m1578/1578\u001b[0m \u001b[32m━━━━━━━━━━━━━━━━━━━━\u001b[0m\u001b[37m\u001b[0m \u001b[1m4s\u001b[0m 3ms/step - loss: 0.2765 - val_loss: 0.2866\n",
            "Epoch 9/100\n",
            "\u001b[1m1578/1578\u001b[0m \u001b[32m━━━━━━━━━━━━━━━━━━━━\u001b[0m\u001b[37m\u001b[0m \u001b[1m5s\u001b[0m 2ms/step - loss: 0.2761 - val_loss: 0.2819\n",
            "Epoch 10/100\n",
            "\u001b[1m1578/1578\u001b[0m \u001b[32m━━━━━━━━━━━━━━━━━━━━\u001b[0m\u001b[37m\u001b[0m \u001b[1m5s\u001b[0m 3ms/step - loss: 0.2753 - val_loss: 0.2777\n",
            "Epoch 11/100\n",
            "\u001b[1m1578/1578\u001b[0m \u001b[32m━━━━━━━━━━━━━━━━━━━━\u001b[0m\u001b[37m\u001b[0m \u001b[1m4s\u001b[0m 2ms/step - loss: 0.2666 - val_loss: 0.2758\n",
            "Epoch 12/100\n",
            "\u001b[1m1578/1578\u001b[0m \u001b[32m━━━━━━━━━━━━━━━━━━━━\u001b[0m\u001b[37m\u001b[0m \u001b[1m4s\u001b[0m 2ms/step - loss: 0.2609 - val_loss: 0.2802\n",
            "Epoch 13/100\n",
            "\u001b[1m1578/1578\u001b[0m \u001b[32m━━━━━━━━━━━━━━━━━━━━\u001b[0m\u001b[37m\u001b[0m \u001b[1m5s\u001b[0m 2ms/step - loss: 0.2616 - val_loss: 0.2761\n",
            "Epoch 14/100\n",
            "\u001b[1m1578/1578\u001b[0m \u001b[32m━━━━━━━━━━━━━━━━━━━━\u001b[0m\u001b[37m\u001b[0m \u001b[1m5s\u001b[0m 3ms/step - loss: 0.2532 - val_loss: 0.2735\n",
            "Epoch 15/100\n",
            "\u001b[1m1578/1578\u001b[0m \u001b[32m━━━━━━━━━━━━━━━━━━━━\u001b[0m\u001b[37m\u001b[0m \u001b[1m5s\u001b[0m 3ms/step - loss: 0.2512 - val_loss: 0.2745\n",
            "Epoch 16/100\n",
            "\u001b[1m1578/1578\u001b[0m \u001b[32m━━━━━━━━━━━━━━━━━━━━\u001b[0m\u001b[37m\u001b[0m \u001b[1m4s\u001b[0m 2ms/step - loss: 0.2577 - val_loss: 0.2777\n",
            "Epoch 17/100\n",
            "\u001b[1m1578/1578\u001b[0m \u001b[32m━━━━━━━━━━━━━━━━━━━━\u001b[0m\u001b[37m\u001b[0m \u001b[1m5s\u001b[0m 2ms/step - loss: 0.2455 - val_loss: 0.2722\n",
            "Epoch 18/100\n",
            "\u001b[1m1578/1578\u001b[0m \u001b[32m━━━━━━━━━━━━━━━━━━━━\u001b[0m\u001b[37m\u001b[0m \u001b[1m5s\u001b[0m 3ms/step - loss: 0.2463 - val_loss: 0.2717\n",
            "Epoch 19/100\n",
            "\u001b[1m1578/1578\u001b[0m \u001b[32m━━━━━━━━━━━━━━━━━━━━\u001b[0m\u001b[37m\u001b[0m \u001b[1m4s\u001b[0m 2ms/step - loss: 0.2430 - val_loss: 0.2749\n",
            "Epoch 20/100\n",
            "\u001b[1m1578/1578\u001b[0m \u001b[32m━━━━━━━━━━━━━━━━━━━━\u001b[0m\u001b[37m\u001b[0m \u001b[1m4s\u001b[0m 2ms/step - loss: 0.2402 - val_loss: 0.2734\n",
            "Epoch 21/100\n",
            "\u001b[1m1578/1578\u001b[0m \u001b[32m━━━━━━━━━━━━━━━━━━━━\u001b[0m\u001b[37m\u001b[0m \u001b[1m5s\u001b[0m 3ms/step - loss: 0.2357 - val_loss: 0.2729\n",
            "Epoch 22/100\n",
            "\u001b[1m1578/1578\u001b[0m \u001b[32m━━━━━━━━━━━━━━━━━━━━\u001b[0m\u001b[37m\u001b[0m \u001b[1m4s\u001b[0m 2ms/step - loss: 0.2358 - val_loss: 0.2790\n",
            "Epoch 23/100\n",
            "\u001b[1m1578/1578\u001b[0m \u001b[32m━━━━━━━━━━━━━━━━━━━━\u001b[0m\u001b[37m\u001b[0m \u001b[1m4s\u001b[0m 3ms/step - loss: 0.2308 - val_loss: 0.2751\n",
            "Epoch 24/100\n",
            "\u001b[1m1578/1578\u001b[0m \u001b[32m━━━━━━━━━━━━━━━━━━━━\u001b[0m\u001b[37m\u001b[0m \u001b[1m5s\u001b[0m 3ms/step - loss: 0.2278 - val_loss: 0.2740\n",
            "Epoch 25/100\n",
            "\u001b[1m1578/1578\u001b[0m \u001b[32m━━━━━━━━━━━━━━━━━━━━\u001b[0m\u001b[37m\u001b[0m \u001b[1m4s\u001b[0m 2ms/step - loss: 0.2283 - val_loss: 0.2756\n",
            "Epoch 26/100\n",
            "\u001b[1m1578/1578\u001b[0m \u001b[32m━━━━━━━━━━━━━━━━━━━━\u001b[0m\u001b[37m\u001b[0m \u001b[1m4s\u001b[0m 3ms/step - loss: 0.2287 - val_loss: 0.2778\n",
            "Epoch 27/100\n",
            "\u001b[1m1578/1578\u001b[0m \u001b[32m━━━━━━━━━━━━━━━━━━━━\u001b[0m\u001b[37m\u001b[0m \u001b[1m5s\u001b[0m 3ms/step - loss: 0.2289 - val_loss: 0.2782\n",
            "Epoch 28/100\n",
            "\u001b[1m1578/1578\u001b[0m \u001b[32m━━━━━━━━━━━━━━━━━━━━\u001b[0m\u001b[37m\u001b[0m \u001b[1m5s\u001b[0m 2ms/step - loss: 0.2203 - val_loss: 0.2783\n"
          ]
        },
        {
          "output_type": "execute_result",
          "data": {
            "text/plain": [
              "<keras.src.callbacks.history.History at 0x7ed277287850>"
            ]
          },
          "metadata": {},
          "execution_count": 53
        }
      ]
    },
    {
      "cell_type": "code",
      "source": [
        "y_test.min(), y_test.max()"
      ],
      "metadata": {
        "colab": {
          "base_uri": "https://localhost:8080/"
        },
        "id": "ZtcTuW8DkXhE",
        "outputId": "083fc9e7-2df7-4826-eeed-ce3d24908564"
      },
      "execution_count": 54,
      "outputs": [
        {
          "output_type": "execute_result",
          "data": {
            "text/plain": [
              "(0, 1)"
            ]
          },
          "metadata": {},
          "execution_count": 54
        }
      ]
    },
    {
      "cell_type": "code",
      "source": [
        "y_pred_probs = model.predict(X_test)\n",
        "y_pred = (y_pred_probs > 0.5).astype(int)\n",
        "\n",
        "acc = accuracy_score(y_test, y_pred)\n",
        "prec = precision_score(y_test, y_pred)\n",
        "rec = recall_score(y_test, y_pred)\n",
        "f1 = f1_score(y_test, y_pred)\n",
        "auc = roc_auc_score(y_test, y_pred_probs)\n",
        "\n",
        "print(f\"Accuracy: {acc:.4f}\")\n",
        "print(f\"Precision: {prec:.4f}\")\n",
        "print(f\"Recall: {rec:.4f}\")\n",
        "print(f\"F1-score: {f1:.4f}\")\n",
        "print(f\"AUC: {auc:.4f}\")\n",
        "\n",
        "fpr, tpr, _ = roc_curve(y_test, y_pred_probs)\n",
        "\n",
        "# Plot ROC Curve\n",
        "plt.figure(figsize=(8, 6))\n",
        "plt.plot(fpr, tpr, color='blue', lw=2, label=f'ROC Curve (AUC = {auc:.4f})')\n",
        "plt.plot([0, 1], [0, 1], color='gray', linestyle='--')\n",
        "plt.xlabel(\"False Positive Rate\")\n",
        "plt.ylabel(\"True Positive Rate\")\n",
        "plt.title(\"Receiver Operating Characteristic (ROC) Curve\")\n",
        "plt.legend(loc=\"lower right\")\n",
        "plt.grid()\n",
        "plt.show()"
      ],
      "metadata": {
        "colab": {
          "base_uri": "https://localhost:8080/",
          "height": 668
        },
        "id": "drI5ZVS5kLJl",
        "outputId": "e4931108-af5a-4301-dfe6-324671f8fedc"
      },
      "execution_count": 55,
      "outputs": [
        {
          "output_type": "stream",
          "name": "stdout",
          "text": [
            "\u001b[1m464/464\u001b[0m \u001b[32m━━━━━━━━━━━━━━━━━━━━\u001b[0m\u001b[37m\u001b[0m \u001b[1m1s\u001b[0m 1ms/step\n",
            "Accuracy: 0.8727\n",
            "Precision: 0.8580\n",
            "Recall: 0.8921\n",
            "F1-score: 0.8748\n",
            "AUC: 0.9534\n"
          ]
        },
        {
          "output_type": "display_data",
          "data": {
            "text/plain": [
              "<Figure size 800x600 with 1 Axes>"
            ],
            "image/png": "[encoded data removed]"
          },
          "metadata": {}
        }
      ]
    },
    {
      "cell_type": "markdown",
      "source": [
        "## **Pytorch Model**"
      ],
      "metadata": {
        "id": "5A_Hr_kIta3e"
      }
    },
    {
      "cell_type": "code",
      "source": [
        "X_train_torch = torch.tensor(X_train, dtype=torch.float32)\n",
        "X_test_torch = torch.tensor(X_test, dtype=torch.float32)\n",
        "y_train_torch = torch.tensor(y_train, dtype=torch.float32).view(-1,1)\n",
        "y_test_torch = torch.tensor(y_test, dtype=torch.float32).view(-1,1)"
      ],
      "metadata": {
        "id": "GKpwYeMdw9z-"
      },
      "execution_count": 56,
      "outputs": []
    },
    {
      "cell_type": "code",
      "source": [
        "class SimpleNN(nn.Module):\n",
        "    def __init__(self,input):\n",
        "        super(SimpleNN, self).__init__()\n",
        "        self.fc1 = nn.Linear(input, 64)\n",
        "        self.fc2 = nn.Linear(64, 1)\n",
        "\n",
        "    def forward(self, x):\n",
        "        x = torch.relu(self.fc1(x))\n",
        "        x = torch.sigmoid(self.fc2(x))\n",
        "        return x"
      ],
      "metadata": {
        "id": "JRP6n-_Vtep9"
      },
      "execution_count": 57,
      "outputs": []
    },
    {
      "cell_type": "code",
      "source": [
        "model = SimpleNN(X_train.shape[1])\n",
        "criterion = nn.BCELoss()\n",
        "optimizer = optim.Adam(model.parameters(), lr=0.001)"
      ],
      "metadata": {
        "id": "DIAm4R8EwTTQ"
      },
      "execution_count": 58,
      "outputs": []
    },
    {
      "cell_type": "code",
      "source": [
        "y_preds = []\n",
        "y_actuals = []\n",
        "\n",
        "for epoch in range(100):\n",
        "    # Training phase\n",
        "    model.train()\n",
        "    optimizer.zero_grad()\n",
        "\n",
        "    outputs = model(X_train_torch)\n",
        "    loss = criterion(outputs, y_train_torch.view(-1, 1))\n",
        "\n",
        "    loss.backward()\n",
        "    optimizer.step()\n",
        "\n",
        "    # Validation phase\n",
        "    model.eval()\n",
        "    with torch.no_grad():\n",
        "        val_outputs = model(X_test_torch)\n",
        "        val_loss = criterion(val_outputs, y_test_torch.view(-1, 1))\n",
        "\n",
        "        # Simpan hasil prediksi\n",
        "        y_preds.extend(val_outputs.detach().numpy().flatten())\n",
        "        y_actuals.extend(y_test_torch.numpy().flatten())\n",
        "\n",
        "    # Cetak loss setiap 10 epoch\n",
        "    if epoch % 10 == 0:\n",
        "        print(f'Epoch {epoch}, Training Loss: {loss.item()}, Validation Loss: {val_loss.item()}')\n",
        "\n",
        "print(\"PyTorch model training complete!\")\n"
      ],
      "metadata": {
        "colab": {
          "base_uri": "https://localhost:8080/"
        },
        "id": "lLiPlKoJwlxO",
        "outputId": "d0c21a0e-e809-4789-c2a5-0df5430acda6"
      },
      "execution_count": 59,
      "outputs": [
        {
          "output_type": "stream",
          "name": "stdout",
          "text": [
            "Epoch 0, Training Loss: 0.7214475870132446, Validation Loss: 0.7168533802032471\n",
            "Epoch 10, Training Loss: 0.6747810244560242, Validation Loss: 0.670945942401886\n",
            "Epoch 20, Training Loss: 0.6358629465103149, Validation Loss: 0.6326160430908203\n",
            "Epoch 30, Training Loss: 0.6029136776924133, Validation Loss: 0.600125789642334\n",
            "Epoch 40, Training Loss: 0.5744274258613586, Validation Loss: 0.5720624923706055\n",
            "Epoch 50, Training Loss: 0.5497294068336487, Validation Loss: 0.5478178262710571\n",
            "Epoch 60, Training Loss: 0.5286165475845337, Validation Loss: 0.5271977782249451\n",
            "Epoch 70, Training Loss: 0.510851263999939, Validation Loss: 0.5099258422851562\n",
            "Epoch 80, Training Loss: 0.49603766202926636, Validation Loss: 0.4955569803714752\n",
            "Epoch 90, Training Loss: 0.48368197679519653, Validation Loss: 0.48356664180755615\n",
            "PyTorch model training complete!\n"
          ]
        }
      ]
    },
    {
      "cell_type": "code",
      "source": [
        "y_test_torch.min(), y_test_torch.max()"
      ],
      "metadata": {
        "colab": {
          "base_uri": "https://localhost:8080/"
        },
        "id": "HzWSjoxz0-aP",
        "outputId": "283bf41b-1ebe-4e99-8434-9b54e9d29a60"
      },
      "execution_count": 60,
      "outputs": [
        {
          "output_type": "execute_result",
          "data": {
            "text/plain": [
              "(tensor(0.), tensor(1.))"
            ]
          },
          "metadata": {},
          "execution_count": 60
        }
      ]
    },
    {
      "cell_type": "code",
      "source": [
        "from sklearn.metrics import roc_curve\n",
        "\n",
        "model.eval()\n",
        "\n",
        "with torch.no_grad():\n",
        "    y_pred_probs = model(X_test_torch).cpu().numpy()  # Konversi ke NumPy\n",
        "\n",
        "# Konversi probabilitas ke label biner\n",
        "y_pred = (y_pred_probs > 0.5).astype(int)\n",
        "\n",
        "# Evaluasi model\n",
        "acc = accuracy_score(y_test, y_pred)\n",
        "prec = precision_score(y_test, y_pred)\n",
        "rec = recall_score(y_test, y_pred)\n",
        "f1 = f1_score(y_test, y_pred)\n",
        "auc = roc_auc_score(y_test, y_pred_probs)\n",
        "\n",
        "# Print hasil evaluasi\n",
        "print(f\"Accuracy: {acc:.4f}\")\n",
        "print(f\"Precision: {prec:.4f}\")\n",
        "print(f\"Recall: {rec:.4f}\")\n",
        "print(f\"F1-score: {f1:.4f}\")\n",
        "print(f\"AUC: {auc:.4f}\")\n",
        "\n",
        "# Hitung ROC Curve\n",
        "fpr, tpr, _ = roc_curve(y_test, y_pred_probs)\n",
        "\n",
        "# Plot ROC Curve\n",
        "plt.figure(figsize=(8, 6))\n",
        "plt.plot(fpr, tpr, color='blue', lw=2, label=f'ROC Curve (AUC = {auc:.4f})')\n",
        "plt.plot([0, 1], [0, 1], color='gray', linestyle='--')\n",
        "plt.xlim([0.0, 1.0])\n",
        "plt.ylim([0.0, 1.05])\n",
        "plt.xlabel('False Positive Rate')\n",
        "plt.ylabel('True Positive Rate')\n",
        "plt.title('Receiver Operating Characteristic (ROC) Curve')\n",
        "plt.legend(loc='lower right')\n",
        "plt.grid()\n",
        "plt.show()"
      ],
      "metadata": {
        "id": "X4SYkTXO0vbt",
        "colab": {
          "base_uri": "https://localhost:8080/",
          "height": 651
        },
        "outputId": "91767b38-fc23-4fdd-81c3-aba158a369c4"
      },
      "execution_count": 61,
      "outputs": [
        {
          "output_type": "stream",
          "name": "stdout",
          "text": [
            "Accuracy: 0.7766\n",
            "Precision: 0.7567\n",
            "Recall: 0.8133\n",
            "F1-score: 0.7840\n",
            "AUC: 0.8569\n"
          ]
        },
        {
          "output_type": "display_data",
          "data": {
            "text/plain": [
              "<Figure size 800x600 with 1 Axes>"
            ],
            "image/png": "[encoded data removed]"
          },
          "metadata": {}
        }
      ]
    },
    {
      "cell_type": "markdown",
      "source": [
        "## **Persamaan Matematika Digunakan**"
      ],
      "metadata": {
        "id": "NdX9NmF34qRm"
      }
    },
    {
      "cell_type": "markdown",
      "source": [
        "### **1. Accuracy**\n",
        "\n",
        "Akurasi ini digunakan untuk mengukur seberapa besar porsi prediksi yang benar terhadap keseluruhan sampelnya.\n",
        "\n",
        "Bentuk persamaannya :\n",
        "\n",
        "![image.png](data:image/png;base64,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)\n",
        "\n",
        "\n",
        "*   TP (True Positive): Prediksi positif yang benar\n",
        "*   TN (True Negative): Prediksi negatif yang benar\n",
        "*   FP (False Positive): Prediksi positif yang salah\n",
        "*   FN (False Negative): Prediksi negatif yang salah"
      ],
      "metadata": {
        "id": "qfoOWQkW5X6I"
      }
    },
    {
      "cell_type": "markdown",
      "source": [
        "### **2. Precision**\n",
        "\n",
        "Presisi ini mengukur seberapa banyak prediksi positif yang benar dibandingkan dengan total prediksi positif.\n",
        "\n",
        "![image.png](data:image/png;base64,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)\n",
        "\n",
        "Maka, nilai presisi ini berguna untuk :\n",
        "\n",
        "\n",
        "*   Nilai presisi tinggi berarti model jarang membuat kesalahan dengan mengklasifikasikan negatif sebagai positif (false positives).\n",
        "*   Berguna saat false positive memiliki dampak besar\n",
        "\n",
        "\n",
        "\n"
      ],
      "metadata": {
        "id": "ZiSnye5lD9W6"
      }
    },
    {
      "cell_type": "markdown",
      "source": [
        "### **3. Recall**\n",
        "\n",
        "Recall mengukur seberapa baik model menangkap semua kasus positif yang sebenarnya\n",
        "\n",
        "![image.png](data:image/png;base64,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)\n",
        "\n",
        "Dengan adanya recall, ini berarti model jarang melewatkan kelas positif yang sebenarnya (false negatives rendah).\n",
        "\n",
        "\n"
      ],
      "metadata": {
        "id": "YGp_yePPMQwP"
      }
    },
    {
      "cell_type": "markdown",
      "source": [
        "### **4. F1-Score**\n",
        "\n",
        "F1-score adalah rata-rata harmonik antara Presisi dan Recall.\n",
        "\n",
        "![image.png](data:image/png;base64,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)\n",
        "\n",
        "*   F1-Score ini berguna ketika dataset tidak seimbang (misalnya jumlah sampel positif jauh lebih sedikit dari negatif).\n",
        "*   Nilai F1-score tinggi berarti keseimbangan presisi dan recall yang baik.\n",
        "*   Salah satu cara untuk menyeimbangkan presisi dan recall adalah dengan F1-Score\n",
        "\n",
        "**Jika F1-Score tinggi, berarti model memiliki keseimbangan presisi dan recall yang baik!**"
      ],
      "metadata": {
        "id": "eWSa5Ldgpdv3"
      }
    },
    {
      "cell_type": "markdown",
      "source": [
        "### **5. AUC**\n",
        "\n",
        "AUC adalah luas di bawah kurva ROC, yang mengukur kemampuan model untuk membedakan antara kelas positif dan negatif.\n",
        "\n",
        "![image.png](data:image/png;base64,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)\n",
        "\n",
        "\n",
        "*   AUC = 1.0 → Model sempurna\n",
        "*   AUC = 0.5 → Model seburuk tebakan acak\n",
        "*   AUC < 0.5 → Model lebih buruk dari tebakan acak"
      ],
      "metadata": {
        "id": "IwXqB3X5pjbF"
      }
    },
    {
      "cell_type": "markdown",
      "source": [
        "### **6. ROC Curve**\n",
        "\n",
        "ROC kurva yang menunjukkan hubungan antara True Positive Rate (TPR) dan False Positive Rate (FPR) untuk berbagai threshold.\n",
        "\n",
        "![image.png](data:image/png;base64,iVBORw0KGgoAAAANSUhEUgAAAPAAAAC2CAYAAADnVADjAAAAAXNSR0IArs4c6QAAAARnQU1BAACxjwv8YQUAAAAJcEhZcwAADsMAAA7DAcdvqGQAACAqSURBVHhe7d17VFTl3gfw78wwDGyBUQkU01HAMOY42sphHV+GkSQKz5Rax1VWrOpwXOmxsptp3sXSvC072uro8rYUzW4n7XSzYxYiaEpgoVheQ0UCRHFAcGBmmOH9I/Y+s/fsQWCQmQ2/z1r9wX6ejQ755dnPfm6y6OjoZhBCJEkuvEAIkQ4KMCESRgEmRMIowIRImIxeYpHOwDAMRo8ejaCgIGHRLdXW1uLw4cOYNGkSRowYISx2U1JSgry8PJSUlAiLehwKMOkUzzzzDKZOnQqVSgUAsFqtcDgckMvlUKlUkMlkcDgcsFqtAACVSgWFQgG0BHLy5Ml46623kJSUBKVSCZVKhebmZlitVjidTu7PYb+f3W5HdnY2li9fDovFwpX3NPQITTrFvffeC5lMhs8++wwPPfQQkpKSkJycjB07dqCpqQlOpxN79uxBcnIykpOTMXr0aOzYsQM2mw3V1dUAgIULF2Ls2LE4ePAgAODGjRtYsmQJd09ycjKMRiO2bNkCp9OJBx54ADNnzhT8TXoWCjDxmlarxZAhQ5Cfn4+3334bVVVVXNmQIUOgVCrR0NCAU6dO8e47cuQIampqUF5ezruu0WgAAHV1dTh79iyvDADef/99VFZWQqFQQK/XQ6vVCqv0GBRg4jW9Xg+lUol9+/YJixATEwMAMJvNOH78uLAYdrsdV69e5b7+85//jDvuuANoebQuLS11qf2HIUOGIDAwEAAQEBAAhmGEVXoMCjDx2siRI1FeXu4WYKPRiPDwcABARUWFWxjDw8OhVCpRUVHBXRs2bBhCQ0PhcDhw+fJlXn1WbGws1Go1AKC+vh6//vqrsEqPQQEmXqutrcX+/fuFl3H33XcjJCQEDodD9FG4uroaP//8M06ePMldGzx4MAIDA1FfX8+77uree+9FcHAwmpqacOTIEXqJRYg33nzzTXzyySfCy1z/t7GxEb/99puwGIWFhViwYAFvOCguLg4ymcxj/3fSpElITk5Gc3Mz8vPzsWnTJmGVHoUCTG4LhmEwdOhQoJX+r5Ber0ffvn0BAJWVlRg+fDhMJhNMJhOeeuopbNiwAa+99hoCAgKwZ88ezJs3r0e3vqBxYHK7GI1GLFy4EH369EFBQQGef/55YRU37FhyYGCg2/iv0+lEVVUVfvrpJ/z73/+mSRwtqAUmt4VWq221/yuG7f82NjZi9erVvPHfsWPHYvLkyVi5ciWF1wUFmNwWGo2m1f6vGLb/azabcf78eWExEUEBJp2uI/1f1/Hf33//vUcPDbUHBZh0ulGjRqFPnz6Ah/FfMez4r9PpxMWLF4XFxAMKMOl0Hen/Dhs2DCqVSnTKJfGMAky8xjAMUlJSuCEfdmqlzWaDxWKByWRCSkqK25RH9r4JEyZw85kbGxvRq1cv0frEnU+GkTpj7WhqaioSExO5JWmeXLlyBTk5Obw+FcMwmDJlCtfnEuNwOHDmzBkcOHCANzmfuBMuJRTjcDjw0UcfYe3atdy1efPm4ZFHHoFMJuPVRcsUyRUrVrhNzyR8Pgmw8H94R9aOvvDCC/jrX/+KwMBA7h72+7BkMhmCgoLgdDpx7NgxrFmzBiUlJdBqtVi8eDH69+/PfW+HwwGbzYbm5j9+HOy9TU1NOHbsGP75z3/S8AXxOz4J8Nq1a5GQkICvv/4aW7Zs4Vq45557DhkZGVAoFNi9ezdWrVrF3TNjxgw88cQTOH78OG9SwCuvvIInnngCTU1N2LRpE3bs2MGVoWXq3T/+8Q+o1Wrk5+djxowZXJlGo8G6deswcOBAnD59Gk8//TTv3uTkZMyePRuRkZE4e/Ys5s6d26YXMoR0lS7vA3f22tFBgwZBoVDAYrHgwoULvDIA2L17N86fPw+ZTIb4+HikpqZyZXFxcQgNDQUA0XHHgwcP4scffwRaJhncd999wiqE+FSXB7gz144yDMMt/r5y5Qry8vJcav9PSEgIAECpVHLrSAHgrrvuAsMwsFqtouEHgLCwMKBlK5fg4GBhMSE+1eUB7sy1o4mJidx4o7A+y3WCfH19Pa/FHzp0KJRKJerq6nDmzBmXu/6g0WgwePBgAEBDQwONTxK/0+UB7sy1o7GxsVwLKhZAuEwqaG5uxvHjx1FYWAi0tN4DBw4EAFy7dg35+fmCO4GUlBRERUXB4XAgLy/P7ZcOIb7W5QHu7LWjSqXSY//XYDBgwoQJCAgIwK+//ootW7ZwZYmJiVyLL9b/nTJlCvdSa//+/bwXaoT4C5+8hRZiGAbbtm1DTEwMysrK8PLLL3t8JGa53lNSUoKsrCyuLDg4GImJiVx/Oy8vD2vWrOE9Pk+bNg3PPvssFAoFKioquHWl4eHh6NWrF5qbm3HixAm8//77OHLkCHdfa1yHpzrCZrNh+/bt2LVrl7CIEFF+EeCOrB1NTU3FnDlzoFar3cZ/AeD69esoLi7G559/jmPHjvHKAGDNmjUYM2YMqqursX37dty4cQMAkJCQgJSUFAQEBODrr7/G22+/Lby1VXq9HpGRkcLLbdLY2IijR4/2+EXqpO38IsBsayiXy91m63jC3gMAO3fuxIYNG4RVPHJtvcXGf2fOnInHHnsMN2/exKpVq6jvS/yWXwR42bJlePDBB3Hz5k2sWbMGX375pbCKG7YFra2txYoVK/Ddd98Jq3jk2np/9dVXWLJkCa/c9ZdDVlYWNm7cyCv3FwUFBcJLxIcSEhKEl247nwe4o/3frKwsDBkyBCUlJcjIyGjXY+f06dPx9NNPw+l0is7eWrhwIcaPH4+mpqZ2B5geoUlX8nmAve3/5ubmtvt4Dbb1vnbtGjIzM92GkLZu3YoRI0bAYrFg5cqV2Lt3L6/cE3qJRbqazwPckf4vO//Z6XS2u4W81fzne+65B8uWLUNkZCQvwI8//jiio6OxcuVKXn1CfKnLx4E7unYULeO6JpMJI0eOhEKh4A7NevDBB2/52BoTE4O0tDQ89NBD3PhvdXU193dg2Ww2NDU1udz5x995/Pjx3LRKQvxFl7fAwqWEYsTWjrIrlZRKJa8uWuZIb9u2DZs3bxYWcT788ENunyahoqIiPPfcc9zXzz//PNLT06FQKFBUVASlUonw8HAsXbqUm8lFiD/o8gBLhcFgQFJSEsLCwlBfX4+vvvoKxcXFwmp+gV3h1V4OhwPnzp0DWpZdsos+PLFYLCgoKEB2drawyOfaeji4q2vXrmHr1q3o37+/2+e3Wq348ssv3f6fjx8/nvfExrp48SK2bdsmvHzbUYC7gZ07d+Luu+8GWkLJbkzAblbgelC266YJdrsdWVlZOHnyJGbNmoW+ffsiMDCQ2+CA3VCBpVKpIJfLUV5ejo0bN+Kbb77hlfvSe++9B51OB6VSCaVSKXo4OFpWpLFPceyoR2xsLGbOnImwsDDu8zudTnz22WdYsWIF7/65c+ciLS0NQUFB3M+psbERhw8fxvz583l1uwIFWOLS0tIwe/ZsXL9+HevXr8eBAwe4MrbbUF5ejrlz53LbCul0OsybNw8DBgzgvWV3HREQe7uv0+kwa9YsxMfH48qVK8jMzPS7LgU7wuBpTgHDMJg6dSoee+wxlJWVYfLkyVyZ0WjEggULoFaroVAocOnSJbz22muiw5qLFy+GwWDA6tWrRRfndJUuf4lFOtfIkSPhdDqxefNmXnhdl2cK91kuLi7GL7/84ra8Mjo6GgzDwOHhaM/i4mIcOXIEdrsdERERSElJEVZps127dmHevHnCy15xXWHmaU25xWLBnj17UFVVherqal6ZVquF3W5Hfn4+mpubERUV5fEz9u/fH5cvX/ZpeEEBlj6dTodffvkF3377Le/6rZZnomV9tGsLGh0dDZVK1erRnqGhoVAoFJDL5bzNEdorICAAcnnn/vNz3Y/a0+HgaFk7brPZYDabedc1Gg3q6uqwd+9e1NXVITAwEAaDgVcHLUGPioryi/XhnfsTJF0qNTUVarUahw4dEhbdcnlmv379cP36dd419i29p6M90fJ95XK52+4o/sB1P2rhE8Srr76Kl156ifva6XSitraW+5ppOU2ipKQE+/bt45atssOPrmJjY6FSqTyuQe9KFGAJCwwMRFFREbdvl6tbbU907tw5XuvrunOJp9ZLr9dzO5RUVlb6/PFRiD2PSfgEodFoYDAYuG2MGYZBbm4ubwbeqFGjEBQUxIXy8OHDsNlsCA0NxZgxY7h6aAmwzWbzi11KKcAStnfvXixatMgtbLfanggA3n33XWzdupX7WqvVQq1Wi7ZeaPlHn5GRgYiICJjNZmzfvt0v/gGz2BYUIk8Qjz76KNRqNU6fPg209IM3bNiAgwcPcnW0Wi0UCgW3MUR2djYqKiogk8mg0+mg0+m4unFxcbh27ZpfvMCjAHdDHTnahD3as6GhATU1NdxMOZPJhDlz5uCTTz6BXq/HhQsXsHjxYnzxxRfCb+FTrjus9OvXDzt37sTBgweRm5uL9PR0WCwW0Z1XWBqNBmazmdsYsbS0FIWFhXA6nYiIiEBycjLQ8rMdMGCAaLfEFyjA3ZA3R3sGBwcjIyMDb7zxBvff2LFjceHCBSxfvhyTJ09u8w4lXYndH83hcKCoqAg5OTnIycnBpUuX4HQ6UV5e7vHEQ7b1Fj6p5OXloaamBgEBARg9ejQYhuH6v639MuhKNA7czXRkeaZer8eSJUsQGRmJwsJCTJ8+XVil3UaNGoVx48Z5fFOdkJCAyspK0cd1uMySauvSSnb8V3gki16vR2ZmJnJzcz3ua2Y0GvHGG2/g888/d5uOu3btWhgMBjQ0NGD9+vXQaDRISkrCokWLUFRUxKvrC9QCdzMdOdqT7f86nU7RzQH9nev4b01NDe9QgN69e8PpdHL9XzHswWpidQ4dOoSGhgYEBwfj/vvvx5AhQ3D16lW/CC+oBe5+OrI8c/HixXj44Yc9zl66HT7++GMUFxdj6dKlwqJ2a219eGRkJIYNG4Zjx455bM2XLVuGmJgYPPnkk8IiMAyDTZs2YdiwYbBYLLDZbDhw4EC790q7XagF7mY60v9l397W1ta2+R5/wp6wIfYGvaqqCnl5eR7D6zr+K8ZisSAvLw92ux0Mw/hV/xcU4O7FdSjF0/ivkNFoRL9+/QCRKZdSwZ6wIRz/bYvExESEhYW12tX45ptvuDO5zGZzu/+M24kCLHFarZYb7klPT+c2NjCbzRg+fDhMJhPXxxO7b8yYMdwBb7W1tR7r+xvG5XDw2NhYoGUJoFqtdtukQYxer8ekSZOQkZEBtVqNO++80+PGEK5DSteuXfOrX3LUB5Y416WEngjfRrtuGyTm6NGjvGNYbwdv+8ALFizAxIkThZc5wk0aXBkMBixatIibecayWq2imxyi5Z758+cjJyfH49tsX6AAE5/wNsDkD/QITXyC3c+MeIdaYEIkjFpgQiSMAkyIhFGACZEwCjAhEkYBJkTCKMCESBgFmBAJowATImEUYEIkjAJMiIRRgAmRMAowIRJGASZEwijAhEgYBZgQCaMAEyJhFGBCJIwCTIiEUYAJkTAKMCESRgEmRMIowIRIGAWYEAmjABMiYRRgQiSMAkyIhFGACZEwCjAhEkYBJkTCKMCESBgFmBAJowATImEUYEIkjAJMiIRRgAmRMAowIRJGASZEwijAhEgYBZgQCaMAEyJhFGBCJIwCTIiEUYAJkTAKMCESRgEmRMIowIRIGAWYEAmjABMiYRRgQiSMAkyIhFGACZEwCjAhEkYBJkTCKMCESBgFmBAJowATImEUYEIkjAJMiIRRgAmRMAowIRJGASZEwijAhEgYBZgQCaMAEyJhsujo6GbhRUK8MWnSJIwYMUJ4uVXXrl3D1q1b0b9/f0yaNAkhISHCKjwWiwUFBQXIzs4WFvUoFGDS6d577z3odDoolUoolUo0NzfDarXC6XTy6rHlAFBWVoaXX34ZgwYNwqxZs9C3b18EBgZCoVDA4XDAarXy7lWpVJDL5SgvL8fGjRvxzTff8Mp7CgowuW3WrFmDMWPG4ObNm1izZg2+/PJLXjnDMJg6dSoee+wxlJWVYfLkyVyZ0WjEwoUL0adPH+Tm5mLmzJm8e3U6HWbNmoX4+HhcuXIFmZmZKCws5NXpCagPTG4LhmEwcOBAAIDZbMbx48eFVWCxWLBnzx5UVVWhurqaVxYdHQ2GYeBwOHD58mVeGQAUFxfjyJEjsNvtiIiIQEpKirBKj0ABJrfFqFGj0KdPHwBASUkJSktLhVUAAKWlpbDZbDCbzbzr0dHRUKlUqK+vx8mTJ3llrNDQUCgUCsjlcgQGBgqLewQKMLkttFotQkJCRFvQV199FS+99BL3tdPpRG1tLa/O0KFDAQB1dXU4e/Ysr4w1ZMgQyOVy2O12XL16VVjcI1CAyW2h0WigVCrdWlCNRgODwYCgoCCg5VE7NzcX+fn5XB29Xo++ffsCrbTeer0egwcPBgBUVlZi//79wio9AgWYdDqGYTy2oI8++ijUajVOnz4NtPSDN2zYgIMHD3J1tFot1Gq1aOuNlu+fkZGBiIgImM1mbN++HSUlJcJqPQK9hSadLjU1FXPmzIFarYbdbofdbgcAyGQyBAUFoaKiAnPnzsWvv/4qvBUAsHDhQowfPx43b95EVlYWqqqquLIRI0YgKSkJERERuHjxItauXYsjR47w7u9JKMCk002bNg3PPvss5HI5fvrpJ65/GhMTg7vuugs///wzpk+fLryNs3PnTtx9992i47+NjY04e/Ysvv/+e/znP//hlfVEFGDS6djx3/r6eqxYsQL79u0DWvqtmZmZyM3NxapVq4S3AS11lixZgsjISBQWFrYadEJ9YNLJXMd/a2pqcOrUKa6sd+/ecDqdXP9XDNv/dTqduHDhgrCYCFCASadKTExEeHg4IPIG+cSJE1i9ejW+++47lzv42PHfhoYGXviJOAow6VR33XWXxxlUVVVVyMvLg8Vi4V13xb69rq2txW+//SYsJgIUYNKphg4dKjr+2xZGoxH9+vUDAPz+++8e31KT/1H06dMnU3iRkPZgGAZGoxE6nQ73338/wsLCcOPGDZw6dQrR0dFQq9UoLy8X3sbRarVISEjA6NGjodPpIJfLcerUKahUKiiVyh47y6otfPoWOjU1FYmJiVAoFMIij+rr67F7925UVlZiypQpuOOOO4RVeOx2O4qKipCdnc17dIuJibnlulNP9xK+BQsWYOLEicLLnKKiIjz33HPCywCAe+65B8uWLUNkZKSwCABw9OhRzJgxQ3iZtPBpgBctWoT7778fCoUCKpUKAGC1WuFwOHj1XMvNZjPeeustVFdXY968eRg0aBBUKhW3btRms6G5+X8fiV1zajabkZWVhV27dgEAxo4di5kzZyIsLMzjulO5XA6VSgWr1YqcnBwsX76cgkz8ik8DzJo9ezYmTZoEh8OBrKwsbNy4UVgF6enpmDJlChoaGrB48WJu7adGo8G6deswcOBAnD59Gk8//TTvvsjISMyfPx//93//h7q6Oqxbtw5ffPEFV36rdadPPPEEpk6dipCQEOTn51NrQPyKX7zEYleV1NfXe3xxsWvXLly4cAH19fW8hdtxcXEIDQ0FWpamCVVVVeH7779HY2MjwsLCkJyczCtn153a7XacP3+eVwYAH330Ec6cOQOZTIb4+HikpqYKqxDiMz4PsEajQVRUFADgypUryMvLE1bhWK1W1NfX866xwxZWqxVnzpzhlbF69+4NufyPjxocHMwrY8cdLRYLzp07xytjsf1kpVLZY9edEv/k8wCPHDmSW/gtbEGfeeYZLFq0iHetpqaG9zU7bGGxWDzO3Bk8eDACAwPR3NyMiooKXhk77mg2m/HDDz/wygDAYDBwL1hqa2vdxjYJ8SWfBzg2NhZBQUGiLWhycjLUajX3dUFBAXJycrivXafteWq9NRoNtFotZDIZampqcOjQIa7Mdd1paWmp6Asqo9GI3r17w2az4b///S+Ki4uFVQjxGZ8HOC4uDgqFwq0Ffeqpp6DRaHj90m3btvE2RnOdtidsvVl///vfER0dDYvFgk8//RQHDhzgyth5t2L9X4ZhMHv2bDz88MPcvevXr+fVIcTXfPoWWqvVYvny5RgwYABvCEcmkyEwMJBbzeJp7iy7bA0APv30U94k+djYWBiNRgwePBhVVVXYsmULPv/8c5e7/7fu1OFwoKysDHa7HXK5HOHh4ejVqxesViuOHj2KDz74oM0tb3p6Ov72t791uK9cWVmJJUuWeHyZR4grnwZ4/PjxmDlzJnr16oXi4mKufxkVFYXhw4fj999/x7PPPiv6aAuXZWti4782mw2lpaXIzs7GZ599Jvo92HWnly9fxpYtWwAAAQEBMBqNMBgMsFqt+PDDD7Fp0ybhrR4xDIPRo0dzW8a0V1VVVY/cHpV0jE8D7Dr+u23bNmzevJkr+/jjj1FWVuY2LstiGAbbtm1DTEwMLl682GrQxbiuOxUb/125ciVSUlJQUVGB+fPnt7kF7moFBQXCS8SHEhIShJduK58GeP369UhISOBmV7EvobRaLd588018//332LBhg/A2QLBti1gAb+WZZ57B1KlTIZfLsXPnTrc/h50eaLFYsHLlSuzdu5dXTog/8NlLLK1WizvvvBMQeYN88eJFrFu3Drt373a5g48d/7Xb7R63HW3NrcZ/BwwYILzUJgzDICUlBSaTqUP/6fV64bckxCOftcATJkzA66+/juDgYHz77beYP3++sEqr2P5vbW1tqy+6PGH7v2KP367TM6uqqnhTN2+FXmKRruSzALP9X7vdjk2bNmHHjh3CKh65BqykpAQZGRnt6v/eav5zWloa5syZg5CQEF6Ap02bBgCic7UJ8YUuf4Q2GAwwmUwYPnw4t6u+XC6HyWSCwWAQVueJiYlBWloaHnroIW78t66uDvfdd1+bHj21Wi1MJhPGjBmD0NBQOBwO1NbWwmQyQavVcvUcDofbiiidTodx48Zxp+kR4g+6tAVmx209heDSpUt47bXXPE7K+PDDD7mpj0Lnz5/Hk08+KbzMaW3daXNzM/bv3897jM/MzMS4cePgcDhQUFCAfv36oampCfPnz/f49yOkq3VpgKUmLS0NCQkJCAkJQWVlJT744APeJuP+yJvDtQF4tUmCLxkMBt6027ZqbGzE0aNHkZiY6La5RFVVFf71r3/x6gPACy+84NYQOBwO/PDDD+1+F+MtCnA3483h2iEhIV5tkuArrkOKaPkFY7fbuZMgZDIZ73O4fnb2HUdSUhImTpyIgIAAqFQqyGQy3LhxA6tWreL2tQaAO++8E0uXLsXQoUO5ena7HXV1ddixY0eX/ywowN2UN4dre7tJQlebM2cOJk6ciEOHDmHDhg3cOUmuLyOFLyvZjRquXr3K++yvvPIKHn/8cQQEBACAW9eKxTAMsrKycOPGDcydO9dnT2Zd/hKL3H6uq7Q6cri2t5sktMecOXPwwQcfCC+3y5/+9CecO3cOixcv5h1yFh8fj+DgYNG5Ah999BGuXr0q+tnPnj2LsrIyyGQy6HQ66HQ6Xh20vNQMCgpCcXGxz8ILCnD35O3h2t5uktAeAQEB7drUUCg1NRXh4eGi/fHY2FgoFIpWd3px3S1To9Ggf//+OHv2LH788Uc4nU5ERESI/oIaNmwYAgMDfb53NQW4G+qMw7W92SShK917772oq6tDdnY277pGo+E9hRw7doxXfs8990ClUvFa4JEjRyI4OBjnz59HXl4eampqEBAQgNGjR4NhGN79gwcPxs2bN0WfbroSBbgb8uZwbW83SehqjY2NyM3NdXvKiI+PR+/evYGWIUZh63z9+nWcOHECJ06c4K7FxsaioaEBJ0+exOHDh7mjXTQaDUwmk8vdf+zjVllZ6fbndjUKcDfDeHm4trebJHS1d999V3Sox7X/K/Y5SktLsWjRIhw+fJi7FhcXB7PZzD1uHzp0CA0NDQgODkZSUhJXT6/X44477nDrV/sCBbibcQ1gv379sHPnThw8eBC5ublIT0+HxWJx233EVWxsLLdIpLq6mrfQYsaMGfjkk0/wl7/8BVevXsU777zTrrXSXYnd6aW1/q8rjUaDyMhIXp9/7969XPjj4+O5mYJarRYqlcovDl+jAHczbAAdDgeKioqQk5ODnJwcXLp0CU6nE+Xl5a3+g46Li4NSqYRcLscjjzyCN954g/tvwoQJqKurw7vvvovJkye77XDiL1x3OhXr/4oZOXIkevXqhYsXL3LXLBYLjh49iqamJvTu3RtGoxFo6f9aLBa/CDCNA3cz3hyu7e0mCWIYhml1dtegQYPQv39/jxsTsJsJtiWELNedXtq60u2VV17Bfffdh8zMTBQVFXHXdTodli1bhqioKFy+fBmvv/46lixZgpqaGr/Y5J9a4G7E9QVURw7XFvZ/vQ2vr7A7nXrq/4qJi4tDdXU1L7wAUFxcjOLiYjQ3NyMqKgqPP/44wsLCfD58xKIWuBtpbZeSyMhIDBs2DMeOHfMYzOnTp3OzrjwdcdPZFixYAJ1Ox5sN5S1PO714otFosHbtWhQWFuLtt98WFiMtLQ2zZ89GWFgYqqurIZPJ8M477/CmWPoKtcDdSGccrs2O//pLC9NeHe3/suO/Yvbt28e93AoPD/eb/i8owN2LN4drazQaxMTEAACqq6tFT6mQAteTPsTGf8XEx8fD4XDwpmEKZWdno6GhAbjF7LauRgGWOHYPrgkTJiA2NhZoOUNKrVa3aY8tbzdJ8AfsJhHsphDBwcFoamrCzZs3YTKZ8OCDD7ot/2N/btOmTcMDDzwAlUoFnU7ncVMJdkhJ7OnGl6gPLHHeHK4NLzdJ6Aze9oGFSwk9Eb6NfvHFF5Gens6tOmKVl5dj7ty5okNtL774IsaPH4/Vq1d3+bpfTyjAxKe8DXBPR4/QxKeamprc9h8jbUctMCESRi0wIRJGASZEwijAhEgYBZgQCaMAEyJhFGBCJIwCTIiE/T+jw6pk6cTv3QAAAABJRU5ErkJggg==)\n",
        "\n",
        "Kurva ROC menggambarkan trade-off antara Recall (TPR) dan False Positives (FPR)"
      ],
      "metadata": {
        "id": "W5VVjT3upsWy"
      }
    }
  ]
}