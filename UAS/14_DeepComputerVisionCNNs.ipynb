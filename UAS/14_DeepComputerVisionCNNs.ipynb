{
  "nbformat": 4,
  "nbformat_minor": 0,
  "metadata": {
    "colab": {
      "provenance": [],
      "include_colab_link": true
    },
    "kernelspec": {
      "name": "python3",
      "display_name": "Python 3"
    },
    "language_info": {
      "name": "python"
    }
  },
  "cells": [
    {
      "cell_type": "markdown",
      "metadata": {
        "id": "view-in-github",
        "colab_type": "text"
      },
      "source": [
        "<a href=\"https://colab.research.google.com/github/dn3ndra/DeepLearning/blob/main/UAS/14_DeepComputerVisionCNNs.ipynb\" target=\"_parent\"><img src=\"https://colab.research.google.com/assets/colab-badge.svg\" alt=\"Open In Colab\"/></a>"
      ]
    },
    {
      "cell_type": "markdown",
      "source": [
        "# Chapter 14: Deep Computer Vision Using CNNs\n",
        "\n",
        "## 1. Apa itu CNN?\n",
        "Convolutional Neural Networks adalah jenis arsitektur deep learning yang unggul dalam pemrosesan data grid seperti gambar.\n",
        "\n",
        "### Ciri utama:\n",
        "- **Convolution layer**: filter belajar mendeteksi fitur lokal\n",
        "- **Pooling layer**: downsampling untuk mengurangi dimensi & memperkuat fitur dominan\n",
        "- **Fully Connected layer**: untuk klasifikasi akhir\n",
        "\n",
        "## 2. Layer Convolution\n",
        "- Filter (kernel) bergerak di atas gambar\n",
        "- Padding \"same\" mempertahankan ukuran input\n",
        "- Aktivasi umum: ReLU\n",
        "\n",
        "## 3. Pooling\n",
        "- **MaxPooling**: mengambil nilai maksimum dari patch\n",
        "- Menurunkan dimensi, menambah translasi-invariansi\n",
        "\n",
        "## 4. Arsitektur Populer\n",
        "### LeNet-5\n",
        "- CNN klasik untuk MNIST, terdiri dari:\n",
        "  Conv → Pool → Conv → Pool → Dense → Output\n",
        "\n",
        "### Modern CNN\n",
        "- Kombinasi bertingkat: Conv → BN → ReLU → Pooling → Dropout → Dense\n",
        "\n",
        "## 5. Dropout\n",
        "- Mengurangi overfitting dengan menonaktifkan neuron selama training\n",
        "\n",
        "## 6. Tips Praktis\n",
        "- Gunakan padding=\"same\" agar output tidak terlalu cepat mengecil\n",
        "- Layer akhir gunakan `softmax` untuk klasifikasi multi-kelas\n",
        "- Pastikan input memiliki channel axis: (28, 28, 1)\n",
        "\n",
        "## 7. Visualisasi Filter\n",
        "- Dapat digunakan untuk interpretasi: apa yang dipelajari oleh layer pertama?"
      ],
      "metadata": {
        "id": "6gdY_R5peb-J"
      }
    },
    {
      "cell_type": "markdown",
      "source": [
        " Import Library"
      ],
      "metadata": {
        "id": "-Mjmd6fbT4JK"
      }
    },
    {
      "cell_type": "code",
      "source": [
        "import tensorflow as tf\n",
        "from tensorflow import keras\n",
        "import matplotlib.pyplot as plt\n",
        "import numpy as np\n"
      ],
      "metadata": {
        "id": "6X2UzkAmT6Ac"
      },
      "execution_count": 1,
      "outputs": []
    },
    {
      "cell_type": "markdown",
      "source": [
        "Load dan Preprocessing Dataset"
      ],
      "metadata": {
        "id": "Av0fH4iCT66C"
      }
    },
    {
      "cell_type": "code",
      "source": [
        "(X_train_full, y_train_full), (X_test, y_test) = keras.datasets.fashion_mnist.load_data()\n",
        "\n",
        "# Tambah dimensi channel (1 untuk grayscale) dan normalisasi\n",
        "X_train_full = X_train_full[..., np.newaxis] / 255.0\n",
        "X_test = X_test[..., np.newaxis] / 255.0\n",
        "\n",
        "# Split validation dan training\n",
        "X_valid, X_train = X_train_full[:5000], X_train_full[5000:]\n",
        "y_valid, y_train = y_train_full[:5000], y_train_full[5000:]\n"
      ],
      "metadata": {
        "colab": {
          "base_uri": "https://localhost:8080/"
        },
        "id": "nrI_0FdxT7e_",
        "outputId": "273fcabb-a0b5-4f9b-b93f-68e81b9d50b2"
      },
      "execution_count": 2,
      "outputs": [
        {
          "output_type": "stream",
          "name": "stdout",
          "text": [
            "Downloading data from https://storage.googleapis.com/tensorflow/tf-keras-datasets/train-labels-idx1-ubyte.gz\n",
            "\u001b[1m29515/29515\u001b[0m \u001b[32m━━━━━━━━━━━━━━━━━━━━\u001b[0m\u001b[37m\u001b[0m \u001b[1m0s\u001b[0m 0us/step\n",
            "Downloading data from https://storage.googleapis.com/tensorflow/tf-keras-datasets/train-images-idx3-ubyte.gz\n",
            "\u001b[1m26421880/26421880\u001b[0m \u001b[32m━━━━━━━━━━━━━━━━━━━━\u001b[0m\u001b[37m\u001b[0m \u001b[1m0s\u001b[0m 0us/step\n",
            "Downloading data from https://storage.googleapis.com/tensorflow/tf-keras-datasets/t10k-labels-idx1-ubyte.gz\n",
            "\u001b[1m5148/5148\u001b[0m \u001b[32m━━━━━━━━━━━━━━━━━━━━\u001b[0m\u001b[37m\u001b[0m \u001b[1m0s\u001b[0m 0us/step\n",
            "Downloading data from https://storage.googleapis.com/tensorflow/tf-keras-datasets/t10k-images-idx3-ubyte.gz\n",
            "\u001b[1m4422102/4422102\u001b[0m \u001b[32m━━━━━━━━━━━━━━━━━━━━\u001b[0m\u001b[37m\u001b[0m \u001b[1m0s\u001b[0m 0us/step\n"
          ]
        }
      ]
    },
    {
      "cell_type": "markdown",
      "source": [
        "Definisi CNN Model"
      ],
      "metadata": {
        "id": "rnH7Vm8-T8ZS"
      }
    },
    {
      "cell_type": "code",
      "source": [
        "model = keras.models.Sequential([\n",
        "    keras.layers.Conv2D(32, 3, padding=\"same\", activation=\"relu\", input_shape=[28, 28, 1]),\n",
        "    keras.layers.MaxPooling2D(2),\n",
        "    keras.layers.Conv2D(64, 3, padding=\"same\", activation=\"relu\"),\n",
        "    keras.layers.MaxPooling2D(2),\n",
        "    keras.layers.Conv2D(128, 3, padding=\"same\", activation=\"relu\"),\n",
        "    keras.layers.Flatten(),\n",
        "    keras.layers.Dense(128, activation=\"relu\"),\n",
        "    keras.layers.Dropout(0.5),\n",
        "    keras.layers.Dense(10, activation=\"softmax\")\n",
        "])\n"
      ],
      "metadata": {
        "colab": {
          "base_uri": "https://localhost:8080/"
        },
        "id": "DPu12IRdT8-Y",
        "outputId": "17718d3e-d814-4e62-edba-add89dbfd637"
      },
      "execution_count": 3,
      "outputs": [
        {
          "output_type": "stream",
          "name": "stderr",
          "text": [
            "/usr/local/lib/python3.11/dist-packages/keras/src/layers/convolutional/base_conv.py:107: UserWarning: Do not pass an `input_shape`/`input_dim` argument to a layer. When using Sequential models, prefer using an `Input(shape)` object as the first layer in the model instead.\n",
            "  super().__init__(activity_regularizer=activity_regularizer, **kwargs)\n"
          ]
        }
      ]
    },
    {
      "cell_type": "markdown",
      "source": [
        "Compile dan Training"
      ],
      "metadata": {
        "id": "4Oe48lO3T-Ck"
      }
    },
    {
      "cell_type": "code",
      "source": [
        "model.compile(loss=\"sparse_categorical_crossentropy\",\n",
        "              optimizer=\"adam\",\n",
        "              metrics=[\"accuracy\"])\n",
        "\n",
        "history = model.fit(X_train, y_train, epochs=10,\n",
        "                    validation_data=(X_valid, y_valid))\n"
      ],
      "metadata": {
        "colab": {
          "base_uri": "https://localhost:8080/"
        },
        "id": "_QtDkjIQT-0i",
        "outputId": "bccec3e0-105e-4349-f6aa-d94353251a46"
      },
      "execution_count": 4,
      "outputs": [
        {
          "output_type": "stream",
          "name": "stdout",
          "text": [
            "Epoch 1/10\n",
            "\u001b[1m1719/1719\u001b[0m \u001b[32m━━━━━━━━━━━━━━━━━━━━\u001b[0m\u001b[37m\u001b[0m \u001b[1m118s\u001b[0m 68ms/step - accuracy: 0.7543 - loss: 0.6795 - val_accuracy: 0.8922 - val_loss: 0.2932\n",
            "Epoch 2/10\n",
            "\u001b[1m1719/1719\u001b[0m \u001b[32m━━━━━━━━━━━━━━━━━━━━\u001b[0m\u001b[37m\u001b[0m \u001b[1m141s\u001b[0m 67ms/step - accuracy: 0.8824 - loss: 0.3314 - val_accuracy: 0.8974 - val_loss: 0.2829\n",
            "Epoch 3/10\n",
            "\u001b[1m1719/1719\u001b[0m \u001b[32m━━━━━━━━━━━━━━━━━━━━\u001b[0m\u001b[37m\u001b[0m \u001b[1m139s\u001b[0m 66ms/step - accuracy: 0.9000 - loss: 0.2728 - val_accuracy: 0.9136 - val_loss: 0.2319\n",
            "Epoch 4/10\n",
            "\u001b[1m1719/1719\u001b[0m \u001b[32m━━━━━━━━━━━━━━━━━━━━\u001b[0m\u001b[37m\u001b[0m \u001b[1m146s\u001b[0m 68ms/step - accuracy: 0.9136 - loss: 0.2368 - val_accuracy: 0.9178 - val_loss: 0.2190\n",
            "Epoch 5/10\n",
            "\u001b[1m1719/1719\u001b[0m \u001b[32m━━━━━━━━━━━━━━━━━━━━\u001b[0m\u001b[37m\u001b[0m \u001b[1m113s\u001b[0m 66ms/step - accuracy: 0.9232 - loss: 0.2099 - val_accuracy: 0.9238 - val_loss: 0.2235\n",
            "Epoch 6/10\n",
            "\u001b[1m1719/1719\u001b[0m \u001b[32m━━━━━━━━━━━━━━━━━━━━\u001b[0m\u001b[37m\u001b[0m \u001b[1m144s\u001b[0m 67ms/step - accuracy: 0.9318 - loss: 0.1875 - val_accuracy: 0.9242 - val_loss: 0.2195\n",
            "Epoch 7/10\n",
            "\u001b[1m1719/1719\u001b[0m \u001b[32m━━━━━━━━━━━━━━━━━━━━\u001b[0m\u001b[37m\u001b[0m \u001b[1m144s\u001b[0m 68ms/step - accuracy: 0.9362 - loss: 0.1679 - val_accuracy: 0.9266 - val_loss: 0.2028\n",
            "Epoch 8/10\n",
            "\u001b[1m1719/1719\u001b[0m \u001b[32m━━━━━━━━━━━━━━━━━━━━\u001b[0m\u001b[37m\u001b[0m \u001b[1m140s\u001b[0m 67ms/step - accuracy: 0.9421 - loss: 0.1588 - val_accuracy: 0.9276 - val_loss: 0.2114\n",
            "Epoch 9/10\n",
            "\u001b[1m1719/1719\u001b[0m \u001b[32m━━━━━━━━━━━━━━━━━━━━\u001b[0m\u001b[37m\u001b[0m \u001b[1m142s\u001b[0m 67ms/step - accuracy: 0.9470 - loss: 0.1405 - val_accuracy: 0.9240 - val_loss: 0.2090\n",
            "Epoch 10/10\n",
            "\u001b[1m1719/1719\u001b[0m \u001b[32m━━━━━━━━━━━━━━━━━━━━\u001b[0m\u001b[37m\u001b[0m \u001b[1m140s\u001b[0m 66ms/step - accuracy: 0.9539 - loss: 0.1254 - val_accuracy: 0.9252 - val_loss: 0.2322\n"
          ]
        }
      ]
    },
    {
      "cell_type": "markdown",
      "source": [
        "Evaluasi Model"
      ],
      "metadata": {
        "id": "KagJTKC1T_1m"
      }
    },
    {
      "cell_type": "code",
      "source": [
        "test_loss, test_acc = model.evaluate(X_test, y_test)\n",
        "print(\"Test accuracy:\", test_acc)\n"
      ],
      "metadata": {
        "colab": {
          "base_uri": "https://localhost:8080/"
        },
        "id": "EO7LKa4JUAjb",
        "outputId": "26cc4328-c425-4531-cd9f-ff4dd5ee4786"
      },
      "execution_count": 5,
      "outputs": [
        {
          "output_type": "stream",
          "name": "stdout",
          "text": [
            "\u001b[1m313/313\u001b[0m \u001b[32m━━━━━━━━━━━━━━━━━━━━\u001b[0m\u001b[37m\u001b[0m \u001b[1m5s\u001b[0m 16ms/step - accuracy: 0.9168 - loss: 0.2807\n",
            "Test accuracy: 0.9154999852180481\n"
          ]
        }
      ]
    },
    {
      "cell_type": "markdown",
      "source": [
        "Visualisasi Filter Layer Pertama"
      ],
      "metadata": {
        "id": "bieVC10dUBdw"
      }
    },
    {
      "cell_type": "code",
      "source": [
        "first_layer = model.layers[0]\n",
        "weights, biases = first_layer.get_weights()\n",
        "\n",
        "print(\"Shape of filters:\", weights.shape)  # (3, 3, 1, 32)\n",
        "\n",
        "# Tampilkan beberapa filter\n",
        "import matplotlib.pyplot as plt\n",
        "\n",
        "plt.figure(figsize=(12, 4))\n",
        "for i in range(8):\n",
        "    f = weights[:, :, 0, i]\n",
        "    plt.subplot(1, 8, i+1)\n",
        "    plt.imshow(f, cmap=\"gray\")\n",
        "    plt.axis(\"off\")\n",
        "plt.suptitle(\"Filters from the first Conv2D layer\")\n",
        "plt.show()"
      ],
      "metadata": {
        "colab": {
          "base_uri": "https://localhost:8080/",
          "height": 297
        },
        "id": "eE6l8xu1UCCT",
        "outputId": "642be9fa-5ebd-4336-fdbe-4b10c534e9d9"
      },
      "execution_count": 6,
      "outputs": [
        {
          "output_type": "stream",
          "name": "stdout",
          "text": [
            "Shape of filters: (3, 3, 1, 32)\n"
          ]
        },
        {
          "output_type": "display_data",
          "data": {
            "text/plain": [
              "<Figure size 1200x400 with 8 Axes>"
            ],
            "image/png": "[encoded data removed]"
          },
          "metadata": {}
        }
      ]
    }
  ]
}