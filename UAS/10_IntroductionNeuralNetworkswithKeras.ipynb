{
  "nbformat": 4,
  "nbformat_minor": 0,
  "metadata": {
    "colab": {
      "provenance": [],
      "include_colab_link": true
    },
    "kernelspec": {
      "name": "python3",
      "display_name": "Python 3"
    },
    "language_info": {
      "name": "python"
    }
  },
  "cells": [
    {
      "cell_type": "markdown",
      "metadata": {
        "id": "view-in-github",
        "colab_type": "text"
      },
      "source": [
        "<a href=\"https://colab.research.google.com/github/dn3ndra/DeepLearning/blob/main/UAS/10_IntroductionNeuralNetworkswithKeras.ipynb\" target=\"_parent\"><img src=\"https://colab.research.google.com/assets/colab-badge.svg\" alt=\"Open In Colab\"/></a>"
      ]
    },
    {
      "cell_type": "markdown",
      "source": [
        "# Chapter 10: Introduction to Artificial Neural Networks with Keras\n",
        "\n",
        "## 1. Neural Network (NN) vs. Traditional ML\n",
        "- NN mampu menyelesaikan masalah kompleks yang sulit bagi model linier atau pohon keputusan.\n",
        "- Memerlukan banyak data dan waktu pelatihan lebih lama.\n",
        "\n",
        "## 2. Multi-Layer Perceptron (MLP)\n",
        "- Terdiri dari lapisan neuron (nodes)\n",
        "- Setiap neuron melakukan: output = activation(weighted_sum(inputs))\n",
        "\n",
        "### Arsitektur:\n",
        "- **Input layer**: menerima data mentah\n",
        "- **Hidden layers**: satu atau lebih lapisan tersembunyi (biasanya `ReLU`)\n",
        "- **Output layer**: satu neuron per kelas (klasifikasi), biasanya `softmax`\n",
        "\n",
        "## 3. Aktivasi\n",
        "- **ReLU (Rectified Linear Unit)**: max(0, x)\n",
        "- **Softmax**: mengubah output menjadi distribusi probabilitas antar kelas\n",
        "\n",
        "## 4. Kompilasi\n",
        "- **Loss function**: `sparse_categorical_crossentropy` untuk label integer\n",
        "- **Optimizer**: `sgd`, `adam`, dll\n",
        "- **Metrics**: biasanya `accuracy` untuk klasifikasi\n",
        "\n",
        "## 5. Training & Validation\n",
        "- Gunakan `validation_data` untuk memantau overfitting\n",
        "- Epoch = 1 siklus penuh seluruh data training\n",
        "\n",
        "## 6. Evaluasi\n",
        "- Evaluasi performa di data yang belum pernah dilihat (test set)\n",
        "\n",
        "## 7. Summary Keras API\n",
        "- **Sequential API**: model linear bertingkat\n",
        "- **Functional API** (bab berikutnya): lebih fleksibel, cocok untuk model kompleks"
      ],
      "metadata": {
        "id": "YQ0tmFYiaW3q"
      }
    },
    {
      "cell_type": "markdown",
      "source": [
        "Import dan Load Dataset"
      ],
      "metadata": {
        "id": "cVVaPknrYsT8"
      }
    },
    {
      "cell_type": "code",
      "execution_count": null,
      "metadata": {
        "colab": {
          "base_uri": "https://localhost:8080/"
        },
        "id": "HFBStRNpYqSs",
        "outputId": "f99fba47-5ce0-44e1-82b3-f19d9f0c61b3"
      },
      "outputs": [
        {
          "output_type": "stream",
          "name": "stdout",
          "text": [
            "Downloading data from https://storage.googleapis.com/tensorflow/tf-keras-datasets/train-labels-idx1-ubyte.gz\n",
            "\u001b[1m29515/29515\u001b[0m \u001b[32m━━━━━━━━━━━━━━━━━━━━\u001b[0m\u001b[37m\u001b[0m \u001b[1m0s\u001b[0m 0us/step\n",
            "Downloading data from https://storage.googleapis.com/tensorflow/tf-keras-datasets/train-images-idx3-ubyte.gz\n",
            "\u001b[1m26421880/26421880\u001b[0m \u001b[32m━━━━━━━━━━━━━━━━━━━━\u001b[0m\u001b[37m\u001b[0m \u001b[1m0s\u001b[0m 0us/step\n",
            "Downloading data from https://storage.googleapis.com/tensorflow/tf-keras-datasets/t10k-labels-idx1-ubyte.gz\n",
            "\u001b[1m5148/5148\u001b[0m \u001b[32m━━━━━━━━━━━━━━━━━━━━\u001b[0m\u001b[37m\u001b[0m \u001b[1m0s\u001b[0m 0us/step\n",
            "Downloading data from https://storage.googleapis.com/tensorflow/tf-keras-datasets/t10k-images-idx3-ubyte.gz\n",
            "\u001b[1m4422102/4422102\u001b[0m \u001b[32m━━━━━━━━━━━━━━━━━━━━\u001b[0m\u001b[37m\u001b[0m \u001b[1m0s\u001b[0m 0us/step\n"
          ]
        }
      ],
      "source": [
        "import tensorflow as tf\n",
        "from tensorflow import keras\n",
        "import numpy as np\n",
        "import matplotlib.pyplot as plt\n",
        "\n",
        "# Load dataset Fashion MNIST\n",
        "fashion_mnist = keras.datasets.fashion_mnist\n",
        "(X_train_full, y_train_full), (X_test, y_test) = fashion_mnist.load_data()\n"
      ]
    },
    {
      "cell_type": "markdown",
      "source": [
        "Normalisasi dan Split Data"
      ],
      "metadata": {
        "id": "AJr091oaYuyq"
      }
    },
    {
      "cell_type": "code",
      "source": [
        "# Bagi data menjadi train, validasi, dan test; skala ke [0, 1]\n",
        "X_train, X_valid = X_train_full[:-5000]/255.0, X_train_full[-5000:]/255.0\n",
        "y_train, y_valid = y_train_full[:-5000], y_train_full[-5000:]\n",
        "X_test = X_test / 255.0\n"
      ],
      "metadata": {
        "id": "iDvm7JyVYvX3"
      },
      "execution_count": null,
      "outputs": []
    },
    {
      "cell_type": "markdown",
      "source": [
        "Definisikan Model"
      ],
      "metadata": {
        "id": "40KPq0DbYwM3"
      }
    },
    {
      "cell_type": "code",
      "source": [
        "model = keras.models.Sequential([\n",
        "    keras.layers.Flatten(input_shape=[28, 28]),           # 1D flatten dari 2D\n",
        "    keras.layers.Dense(300, activation=\"relu\"),           # hidden layer 1\n",
        "    keras.layers.Dense(100, activation=\"relu\"),           # hidden layer 2\n",
        "    keras.layers.Dense(10, activation=\"softmax\")          # output layer: 10 kelas\n",
        "])\n"
      ],
      "metadata": {
        "colab": {
          "base_uri": "https://localhost:8080/"
        },
        "id": "C2Ple02TYw28",
        "outputId": "78398f57-fff4-4b3a-fd59-9870cbb47149"
      },
      "execution_count": null,
      "outputs": [
        {
          "output_type": "stream",
          "name": "stderr",
          "text": [
            "/usr/local/lib/python3.11/dist-packages/keras/src/layers/reshaping/flatten.py:37: UserWarning: Do not pass an `input_shape`/`input_dim` argument to a layer. When using Sequential models, prefer using an `Input(shape)` object as the first layer in the model instead.\n",
            "  super().__init__(**kwargs)\n"
          ]
        }
      ]
    },
    {
      "cell_type": "markdown",
      "source": [
        "Compile Model"
      ],
      "metadata": {
        "id": "7T9RkkXtYx4r"
      }
    },
    {
      "cell_type": "code",
      "source": [
        "model.compile(loss=\"sparse_categorical_crossentropy\",\n",
        "              optimizer=\"sgd\",         # stochastic gradient descent\n",
        "              metrics=[\"accuracy\"])\n"
      ],
      "metadata": {
        "id": "1Ee0wxPjYycu"
      },
      "execution_count": null,
      "outputs": []
    },
    {
      "cell_type": "markdown",
      "source": [
        "Training Model"
      ],
      "metadata": {
        "id": "5QNZ6jRrYzbM"
      }
    },
    {
      "cell_type": "code",
      "source": [
        "history = model.fit(X_train, y_train, epochs=10,\n",
        "                    validation_data=(X_valid, y_valid))\n"
      ],
      "metadata": {
        "colab": {
          "base_uri": "https://localhost:8080/"
        },
        "id": "_ak_mQkwY0Cr",
        "outputId": "2ca9797e-43bc-4c43-b8c9-a334be03096d"
      },
      "execution_count": null,
      "outputs": [
        {
          "output_type": "stream",
          "name": "stdout",
          "text": [
            "Epoch 1/10\n",
            "\u001b[1m1719/1719\u001b[0m \u001b[32m━━━━━━━━━━━━━━━━━━━━\u001b[0m\u001b[37m\u001b[0m \u001b[1m12s\u001b[0m 7ms/step - accuracy: 0.6906 - loss: 0.9756 - val_accuracy: 0.8230 - val_loss: 0.5063\n",
            "Epoch 2/10\n",
            "\u001b[1m1719/1719\u001b[0m \u001b[32m━━━━━━━━━━━━━━━━━━━━\u001b[0m\u001b[37m\u001b[0m \u001b[1m8s\u001b[0m 4ms/step - accuracy: 0.8268 - loss: 0.5022 - val_accuracy: 0.8160 - val_loss: 0.5058\n",
            "Epoch 3/10\n",
            "\u001b[1m1719/1719\u001b[0m \u001b[32m━━━━━━━━━━━━━━━━━━━━\u001b[0m\u001b[37m\u001b[0m \u001b[1m11s\u001b[0m 5ms/step - accuracy: 0.8464 - loss: 0.4421 - val_accuracy: 0.8516 - val_loss: 0.4173\n",
            "Epoch 4/10\n",
            "\u001b[1m1719/1719\u001b[0m \u001b[32m━━━━━━━━━━━━━━━━━━━━\u001b[0m\u001b[37m\u001b[0m \u001b[1m9s\u001b[0m 5ms/step - accuracy: 0.8526 - loss: 0.4250 - val_accuracy: 0.8636 - val_loss: 0.3924\n",
            "Epoch 5/10\n",
            "\u001b[1m1719/1719\u001b[0m \u001b[32m━━━━━━━━━━━━━━━━━━━━\u001b[0m\u001b[37m\u001b[0m \u001b[1m8s\u001b[0m 4ms/step - accuracy: 0.8628 - loss: 0.3964 - val_accuracy: 0.8614 - val_loss: 0.3892\n",
            "Epoch 6/10\n",
            "\u001b[1m1719/1719\u001b[0m \u001b[32m━━━━━━━━━━━━━━━━━━━━\u001b[0m\u001b[37m\u001b[0m \u001b[1m9s\u001b[0m 5ms/step - accuracy: 0.8679 - loss: 0.3793 - val_accuracy: 0.8620 - val_loss: 0.4101\n",
            "Epoch 7/10\n",
            "\u001b[1m1719/1719\u001b[0m \u001b[32m━━━━━━━━━━━━━━━━━━━━\u001b[0m\u001b[37m\u001b[0m \u001b[1m8s\u001b[0m 5ms/step - accuracy: 0.8741 - loss: 0.3646 - val_accuracy: 0.8686 - val_loss: 0.3664\n",
            "Epoch 8/10\n",
            "\u001b[1m1719/1719\u001b[0m \u001b[32m━━━━━━━━━━━━━━━━━━━━\u001b[0m\u001b[37m\u001b[0m \u001b[1m8s\u001b[0m 4ms/step - accuracy: 0.8778 - loss: 0.3474 - val_accuracy: 0.8654 - val_loss: 0.3796\n",
            "Epoch 9/10\n",
            "\u001b[1m1719/1719\u001b[0m \u001b[32m━━━━━━━━━━━━━━━━━━━━\u001b[0m\u001b[37m\u001b[0m \u001b[1m11s\u001b[0m 5ms/step - accuracy: 0.8795 - loss: 0.3449 - val_accuracy: 0.8718 - val_loss: 0.3532\n",
            "Epoch 10/10\n",
            "\u001b[1m1719/1719\u001b[0m \u001b[32m━━━━━━━━━━━━━━━━━━━━\u001b[0m\u001b[37m\u001b[0m \u001b[1m10s\u001b[0m 6ms/step - accuracy: 0.8827 - loss: 0.3286 - val_accuracy: 0.8738 - val_loss: 0.3579\n"
          ]
        }
      ]
    },
    {
      "cell_type": "markdown",
      "source": [
        "Evaluasi Model"
      ],
      "metadata": {
        "id": "xpnk0u-OY09B"
      }
    },
    {
      "cell_type": "code",
      "source": [
        "test_loss, test_acc = model.evaluate(X_test, y_test)\n",
        "print(\"Test accuracy:\", test_acc)\n"
      ],
      "metadata": {
        "colab": {
          "base_uri": "https://localhost:8080/"
        },
        "id": "fkJEU5fGY1go",
        "outputId": "84d8d30c-6431-42bf-db78-726a2bf586a9"
      },
      "execution_count": null,
      "outputs": [
        {
          "output_type": "stream",
          "name": "stdout",
          "text": [
            "\u001b[1m313/313\u001b[0m \u001b[32m━━━━━━━━━━━━━━━━━━━━\u001b[0m\u001b[37m\u001b[0m \u001b[1m1s\u001b[0m 3ms/step - accuracy: 0.8658 - loss: 0.3771\n",
            "Test accuracy: 0.8622000217437744\n"
          ]
        }
      ]
    },
    {
      "cell_type": "markdown",
      "source": [
        "Visualisasi Akurasi Training & Validasi"
      ],
      "metadata": {
        "id": "r_Dy6wBbY2zy"
      }
    },
    {
      "cell_type": "code",
      "source": [
        "plt.plot(history.history['accuracy'], label=\"Train Accuracy\")\n",
        "plt.plot(history.history['val_accuracy'], label=\"Validation Accuracy\")\n",
        "plt.xlabel(\"Epoch\")\n",
        "plt.ylabel(\"Accuracy\")\n",
        "plt.title(\"Training & Validation Accuracy\")\n",
        "plt.legend()\n",
        "plt.grid()\n",
        "plt.show()\n"
      ],
      "metadata": {
        "colab": {
          "base_uri": "https://localhost:8080/",
          "height": 472
        },
        "id": "LnS5M8CEY3uV",
        "outputId": "d84342da-f5e6-44ee-cf5f-e6a948700d19"
      },
      "execution_count": null,
      "outputs": [
        {
          "output_type": "display_data",
          "data": {
            "text/plain": [
              "<Figure size 640x480 with 1 Axes>"
            ],
            "image/png": "[encoded data removed]"
          },
          "metadata": {}
        }
      ]
    }
  ]
}